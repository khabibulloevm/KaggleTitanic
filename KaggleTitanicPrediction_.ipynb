{
  "nbformat": 4,
  "nbformat_minor": 0,
  "metadata": {
    "colab": {
      "provenance": []
    },
    "kernelspec": {
      "name": "python3",
      "display_name": "Python 3"
    },
    "language_info": {
      "name": "python"
    }
  },
  "cells": [
    {
      "cell_type": "markdown",
      "source": [
        "Author: **Kihabibulloev Mukhammadsodik**\n",
        "\n",
        "email: **khabibulloevms@gmail.com**\n",
        "\n",
        "github: *Курсив*"
      ],
      "metadata": {
        "id": "bj_TcpqiwBbI"
      }
    },
    {
      "cell_type": "markdown",
      "source": [
        "# **The challenge**\n",
        "The competition is simple: we want you to use the Titanic passenger data (name, age, price of ticket, etc) to try to predict who will survive and who will die."
      ],
      "metadata": {
        "id": "Pyx6DzSZSq1_"
      }
    },
    {
      "cell_type": "markdown",
      "source": [
        "# **Importing the Libraries**"
      ],
      "metadata": {
        "id": "GVnqXMRyWB5G"
      }
    },
    {
      "cell_type": "code",
      "execution_count": null,
      "metadata": {
        "id": "tN_qwlxxSEsX"
      },
      "outputs": [],
      "source": [
        "# linear algebra\n",
        "import numpy as np\n",
        "\n",
        "# data processing\n",
        "import pandas as pd\n",
        "\n",
        "# data visualization\n",
        "import seaborn as sns\n",
        "%matplotlib inline\n",
        "from matplotlib import pyplot as plt\n",
        "from matplotlib import style\n",
        "\n",
        "# Algorithms\n",
        "from sklearn import linear_model\n",
        "from sklearn.linear_model import LogisticRegression\n",
        "from sklearn.ensemble import RandomForestClassifier\n",
        "from sklearn.linear_model import Perceptron\n",
        "from sklearn.linear_model import SGDClassifier\n",
        "from sklearn.tree import DecisionTreeClassifier\n",
        "from sklearn.neighbors import KNeighborsClassifier\n",
        "from sklearn.svm import SVC, LinearSVC\n",
        "from sklearn.naive_bayes import GaussianNB"
      ]
    },
    {
      "cell_type": "markdown",
      "source": [
        "# **Getting the Data**"
      ],
      "metadata": {
        "id": "JBzvYZbvWY9j"
      }
    },
    {
      "cell_type": "code",
      "source": [
        "from google.colab import files\n",
        "uploaded = files.upload()"
      ],
      "metadata": {
        "colab": {
          "base_uri": "https://localhost:8080/",
          "height": 142
        },
        "id": "vAoUPr56WXsR",
        "outputId": "3bb09932-9448-422a-fbaf-1d6ab6cf4ce7"
      },
      "execution_count": null,
      "outputs": [
        {
          "output_type": "display_data",
          "data": {
            "text/plain": [
              "<IPython.core.display.HTML object>"
            ],
            "text/html": [
              "\n",
              "     <input type=\"file\" id=\"files-e104eead-64a8-43b3-b79c-416c6a6c96bf\" name=\"files[]\" multiple disabled\n",
              "        style=\"border:none\" />\n",
              "     <output id=\"result-e104eead-64a8-43b3-b79c-416c6a6c96bf\">\n",
              "      Upload widget is only available when the cell has been executed in the\n",
              "      current browser session. Please rerun this cell to enable.\n",
              "      </output>\n",
              "      <script>// Copyright 2017 Google LLC\n",
              "//\n",
              "// Licensed under the Apache License, Version 2.0 (the \"License\");\n",
              "// you may not use this file except in compliance with the License.\n",
              "// You may obtain a copy of the License at\n",
              "//\n",
              "//      http://www.apache.org/licenses/LICENSE-2.0\n",
              "//\n",
              "// Unless required by applicable law or agreed to in writing, software\n",
              "// distributed under the License is distributed on an \"AS IS\" BASIS,\n",
              "// WITHOUT WARRANTIES OR CONDITIONS OF ANY KIND, either express or implied.\n",
              "// See the License for the specific language governing permissions and\n",
              "// limitations under the License.\n",
              "\n",
              "/**\n",
              " * @fileoverview Helpers for google.colab Python module.\n",
              " */\n",
              "(function(scope) {\n",
              "function span(text, styleAttributes = {}) {\n",
              "  const element = document.createElement('span');\n",
              "  element.textContent = text;\n",
              "  for (const key of Object.keys(styleAttributes)) {\n",
              "    element.style[key] = styleAttributes[key];\n",
              "  }\n",
              "  return element;\n",
              "}\n",
              "\n",
              "// Max number of bytes which will be uploaded at a time.\n",
              "const MAX_PAYLOAD_SIZE = 100 * 1024;\n",
              "\n",
              "function _uploadFiles(inputId, outputId) {\n",
              "  const steps = uploadFilesStep(inputId, outputId);\n",
              "  const outputElement = document.getElementById(outputId);\n",
              "  // Cache steps on the outputElement to make it available for the next call\n",
              "  // to uploadFilesContinue from Python.\n",
              "  outputElement.steps = steps;\n",
              "\n",
              "  return _uploadFilesContinue(outputId);\n",
              "}\n",
              "\n",
              "// This is roughly an async generator (not supported in the browser yet),\n",
              "// where there are multiple asynchronous steps and the Python side is going\n",
              "// to poll for completion of each step.\n",
              "// This uses a Promise to block the python side on completion of each step,\n",
              "// then passes the result of the previous step as the input to the next step.\n",
              "function _uploadFilesContinue(outputId) {\n",
              "  const outputElement = document.getElementById(outputId);\n",
              "  const steps = outputElement.steps;\n",
              "\n",
              "  const next = steps.next(outputElement.lastPromiseValue);\n",
              "  return Promise.resolve(next.value.promise).then((value) => {\n",
              "    // Cache the last promise value to make it available to the next\n",
              "    // step of the generator.\n",
              "    outputElement.lastPromiseValue = value;\n",
              "    return next.value.response;\n",
              "  });\n",
              "}\n",
              "\n",
              "/**\n",
              " * Generator function which is called between each async step of the upload\n",
              " * process.\n",
              " * @param {string} inputId Element ID of the input file picker element.\n",
              " * @param {string} outputId Element ID of the output display.\n",
              " * @return {!Iterable<!Object>} Iterable of next steps.\n",
              " */\n",
              "function* uploadFilesStep(inputId, outputId) {\n",
              "  const inputElement = document.getElementById(inputId);\n",
              "  inputElement.disabled = false;\n",
              "\n",
              "  const outputElement = document.getElementById(outputId);\n",
              "  outputElement.innerHTML = '';\n",
              "\n",
              "  const pickedPromise = new Promise((resolve) => {\n",
              "    inputElement.addEventListener('change', (e) => {\n",
              "      resolve(e.target.files);\n",
              "    });\n",
              "  });\n",
              "\n",
              "  const cancel = document.createElement('button');\n",
              "  inputElement.parentElement.appendChild(cancel);\n",
              "  cancel.textContent = 'Cancel upload';\n",
              "  const cancelPromise = new Promise((resolve) => {\n",
              "    cancel.onclick = () => {\n",
              "      resolve(null);\n",
              "    };\n",
              "  });\n",
              "\n",
              "  // Wait for the user to pick the files.\n",
              "  const files = yield {\n",
              "    promise: Promise.race([pickedPromise, cancelPromise]),\n",
              "    response: {\n",
              "      action: 'starting',\n",
              "    }\n",
              "  };\n",
              "\n",
              "  cancel.remove();\n",
              "\n",
              "  // Disable the input element since further picks are not allowed.\n",
              "  inputElement.disabled = true;\n",
              "\n",
              "  if (!files) {\n",
              "    return {\n",
              "      response: {\n",
              "        action: 'complete',\n",
              "      }\n",
              "    };\n",
              "  }\n",
              "\n",
              "  for (const file of files) {\n",
              "    const li = document.createElement('li');\n",
              "    li.append(span(file.name, {fontWeight: 'bold'}));\n",
              "    li.append(span(\n",
              "        `(${file.type || 'n/a'}) - ${file.size} bytes, ` +\n",
              "        `last modified: ${\n",
              "            file.lastModifiedDate ? file.lastModifiedDate.toLocaleDateString() :\n",
              "                                    'n/a'} - `));\n",
              "    const percent = span('0% done');\n",
              "    li.appendChild(percent);\n",
              "\n",
              "    outputElement.appendChild(li);\n",
              "\n",
              "    const fileDataPromise = new Promise((resolve) => {\n",
              "      const reader = new FileReader();\n",
              "      reader.onload = (e) => {\n",
              "        resolve(e.target.result);\n",
              "      };\n",
              "      reader.readAsArrayBuffer(file);\n",
              "    });\n",
              "    // Wait for the data to be ready.\n",
              "    let fileData = yield {\n",
              "      promise: fileDataPromise,\n",
              "      response: {\n",
              "        action: 'continue',\n",
              "      }\n",
              "    };\n",
              "\n",
              "    // Use a chunked sending to avoid message size limits. See b/62115660.\n",
              "    let position = 0;\n",
              "    do {\n",
              "      const length = Math.min(fileData.byteLength - position, MAX_PAYLOAD_SIZE);\n",
              "      const chunk = new Uint8Array(fileData, position, length);\n",
              "      position += length;\n",
              "\n",
              "      const base64 = btoa(String.fromCharCode.apply(null, chunk));\n",
              "      yield {\n",
              "        response: {\n",
              "          action: 'append',\n",
              "          file: file.name,\n",
              "          data: base64,\n",
              "        },\n",
              "      };\n",
              "\n",
              "      let percentDone = fileData.byteLength === 0 ?\n",
              "          100 :\n",
              "          Math.round((position / fileData.byteLength) * 100);\n",
              "      percent.textContent = `${percentDone}% done`;\n",
              "\n",
              "    } while (position < fileData.byteLength);\n",
              "  }\n",
              "\n",
              "  // All done.\n",
              "  yield {\n",
              "    response: {\n",
              "      action: 'complete',\n",
              "    }\n",
              "  };\n",
              "}\n",
              "\n",
              "scope.google = scope.google || {};\n",
              "scope.google.colab = scope.google.colab || {};\n",
              "scope.google.colab._files = {\n",
              "  _uploadFiles,\n",
              "  _uploadFilesContinue,\n",
              "};\n",
              "})(self);\n",
              "</script> "
            ]
          },
          "metadata": {}
        },
        {
          "output_type": "stream",
          "name": "stdout",
          "text": [
            "Saving gender_submission.csv to gender_submission.csv\n",
            "Saving test.csv to test.csv\n",
            "Saving train.csv to train.csv\n"
          ]
        }
      ]
    },
    {
      "cell_type": "code",
      "source": [
        "test_df = pd.read_csv(\"test.csv\")\n",
        "train_df = pd.read_csv(\"train.csv\")"
      ],
      "metadata": {
        "id": "J9HpJn4oWfSt"
      },
      "execution_count": null,
      "outputs": []
    },
    {
      "cell_type": "markdown",
      "source": [
        "# **Data Exploration/Analysis**"
      ],
      "metadata": {
        "id": "XiPbPcxaWiiJ"
      }
    },
    {
      "cell_type": "code",
      "source": [
        "train_df.info()"
      ],
      "metadata": {
        "colab": {
          "base_uri": "https://localhost:8080/"
        },
        "id": "2cfU9kwSWj4X",
        "outputId": "0b17b8ea-d7a5-49d2-de37-12e29c10616c"
      },
      "execution_count": null,
      "outputs": [
        {
          "output_type": "stream",
          "name": "stdout",
          "text": [
            "<class 'pandas.core.frame.DataFrame'>\n",
            "RangeIndex: 891 entries, 0 to 890\n",
            "Data columns (total 12 columns):\n",
            " #   Column       Non-Null Count  Dtype  \n",
            "---  ------       --------------  -----  \n",
            " 0   PassengerId  891 non-null    int64  \n",
            " 1   Survived     891 non-null    int64  \n",
            " 2   Pclass       891 non-null    int64  \n",
            " 3   Name         891 non-null    object \n",
            " 4   Sex          891 non-null    object \n",
            " 5   Age          714 non-null    float64\n",
            " 6   SibSp        891 non-null    int64  \n",
            " 7   Parch        891 non-null    int64  \n",
            " 8   Ticket       891 non-null    object \n",
            " 9   Fare         891 non-null    float64\n",
            " 10  Cabin        204 non-null    object \n",
            " 11  Embarked     889 non-null    object \n",
            "dtypes: float64(2), int64(5), object(5)\n",
            "memory usage: 83.7+ KB\n"
          ]
        }
      ]
    },
    {
      "cell_type": "markdown",
      "source": [
        "**The training-set has 891 examples and 11 features + the target variable (survived).** 2 of the features are floats, 5 are integers and 5 are objects. Below I have listed the features with a short description:"
      ],
      "metadata": {
        "id": "mFEointMWptH"
      }
    },
    {
      "cell_type": "markdown",
      "source": [
        "```\n",
        "survival:    Survival\n",
        "PassengerId: Unique Id of a passenger.\n",
        "pclass:    Ticket class     \n",
        "sex:    Sex     \n",
        "Age:    Age in years     \n",
        "sibsp:    # of siblings / spouses aboard the Titanic     \n",
        "parch:    # of parents / children aboard the Titanic     \n",
        "ticket:    Ticket number     \n",
        "fare:    Passenger fare     \n",
        "cabin:    Cabin number     \n",
        "embarked:    Port of Embarkation\n",
        "```\n",
        "\n"
      ],
      "metadata": {
        "id": "j-1KzHeQW0Ve"
      }
    },
    {
      "cell_type": "code",
      "source": [
        "train_df.describe()"
      ],
      "metadata": {
        "colab": {
          "base_uri": "https://localhost:8080/",
          "height": 300
        },
        "id": "sQ5iNsXRWt7R",
        "outputId": "e1c96d3d-6190-4eb3-c326-e19b7cf15be9"
      },
      "execution_count": null,
      "outputs": [
        {
          "output_type": "execute_result",
          "data": {
            "text/plain": [
              "       PassengerId    Survived      Pclass         Age       SibSp  \\\n",
              "count   891.000000  891.000000  891.000000  714.000000  891.000000   \n",
              "mean    446.000000    0.383838    2.308642   29.699118    0.523008   \n",
              "std     257.353842    0.486592    0.836071   14.526497    1.102743   \n",
              "min       1.000000    0.000000    1.000000    0.420000    0.000000   \n",
              "25%     223.500000    0.000000    2.000000   20.125000    0.000000   \n",
              "50%     446.000000    0.000000    3.000000   28.000000    0.000000   \n",
              "75%     668.500000    1.000000    3.000000   38.000000    1.000000   \n",
              "max     891.000000    1.000000    3.000000   80.000000    8.000000   \n",
              "\n",
              "            Parch        Fare  \n",
              "count  891.000000  891.000000  \n",
              "mean     0.381594   32.204208  \n",
              "std      0.806057   49.693429  \n",
              "min      0.000000    0.000000  \n",
              "25%      0.000000    7.910400  \n",
              "50%      0.000000   14.454200  \n",
              "75%      0.000000   31.000000  \n",
              "max      6.000000  512.329200  "
            ],
            "text/html": [
              "\n",
              "  <div id=\"df-17602064-b9b2-40bd-9e98-b04b9a309755\">\n",
              "    <div class=\"colab-df-container\">\n",
              "      <div>\n",
              "<style scoped>\n",
              "    .dataframe tbody tr th:only-of-type {\n",
              "        vertical-align: middle;\n",
              "    }\n",
              "\n",
              "    .dataframe tbody tr th {\n",
              "        vertical-align: top;\n",
              "    }\n",
              "\n",
              "    .dataframe thead th {\n",
              "        text-align: right;\n",
              "    }\n",
              "</style>\n",
              "<table border=\"1\" class=\"dataframe\">\n",
              "  <thead>\n",
              "    <tr style=\"text-align: right;\">\n",
              "      <th></th>\n",
              "      <th>PassengerId</th>\n",
              "      <th>Survived</th>\n",
              "      <th>Pclass</th>\n",
              "      <th>Age</th>\n",
              "      <th>SibSp</th>\n",
              "      <th>Parch</th>\n",
              "      <th>Fare</th>\n",
              "    </tr>\n",
              "  </thead>\n",
              "  <tbody>\n",
              "    <tr>\n",
              "      <th>count</th>\n",
              "      <td>891.000000</td>\n",
              "      <td>891.000000</td>\n",
              "      <td>891.000000</td>\n",
              "      <td>714.000000</td>\n",
              "      <td>891.000000</td>\n",
              "      <td>891.000000</td>\n",
              "      <td>891.000000</td>\n",
              "    </tr>\n",
              "    <tr>\n",
              "      <th>mean</th>\n",
              "      <td>446.000000</td>\n",
              "      <td>0.383838</td>\n",
              "      <td>2.308642</td>\n",
              "      <td>29.699118</td>\n",
              "      <td>0.523008</td>\n",
              "      <td>0.381594</td>\n",
              "      <td>32.204208</td>\n",
              "    </tr>\n",
              "    <tr>\n",
              "      <th>std</th>\n",
              "      <td>257.353842</td>\n",
              "      <td>0.486592</td>\n",
              "      <td>0.836071</td>\n",
              "      <td>14.526497</td>\n",
              "      <td>1.102743</td>\n",
              "      <td>0.806057</td>\n",
              "      <td>49.693429</td>\n",
              "    </tr>\n",
              "    <tr>\n",
              "      <th>min</th>\n",
              "      <td>1.000000</td>\n",
              "      <td>0.000000</td>\n",
              "      <td>1.000000</td>\n",
              "      <td>0.420000</td>\n",
              "      <td>0.000000</td>\n",
              "      <td>0.000000</td>\n",
              "      <td>0.000000</td>\n",
              "    </tr>\n",
              "    <tr>\n",
              "      <th>25%</th>\n",
              "      <td>223.500000</td>\n",
              "      <td>0.000000</td>\n",
              "      <td>2.000000</td>\n",
              "      <td>20.125000</td>\n",
              "      <td>0.000000</td>\n",
              "      <td>0.000000</td>\n",
              "      <td>7.910400</td>\n",
              "    </tr>\n",
              "    <tr>\n",
              "      <th>50%</th>\n",
              "      <td>446.000000</td>\n",
              "      <td>0.000000</td>\n",
              "      <td>3.000000</td>\n",
              "      <td>28.000000</td>\n",
              "      <td>0.000000</td>\n",
              "      <td>0.000000</td>\n",
              "      <td>14.454200</td>\n",
              "    </tr>\n",
              "    <tr>\n",
              "      <th>75%</th>\n",
              "      <td>668.500000</td>\n",
              "      <td>1.000000</td>\n",
              "      <td>3.000000</td>\n",
              "      <td>38.000000</td>\n",
              "      <td>1.000000</td>\n",
              "      <td>0.000000</td>\n",
              "      <td>31.000000</td>\n",
              "    </tr>\n",
              "    <tr>\n",
              "      <th>max</th>\n",
              "      <td>891.000000</td>\n",
              "      <td>1.000000</td>\n",
              "      <td>3.000000</td>\n",
              "      <td>80.000000</td>\n",
              "      <td>8.000000</td>\n",
              "      <td>6.000000</td>\n",
              "      <td>512.329200</td>\n",
              "    </tr>\n",
              "  </tbody>\n",
              "</table>\n",
              "</div>\n",
              "      <button class=\"colab-df-convert\" onclick=\"convertToInteractive('df-17602064-b9b2-40bd-9e98-b04b9a309755')\"\n",
              "              title=\"Convert this dataframe to an interactive table.\"\n",
              "              style=\"display:none;\">\n",
              "        \n",
              "  <svg xmlns=\"http://www.w3.org/2000/svg\" height=\"24px\"viewBox=\"0 0 24 24\"\n",
              "       width=\"24px\">\n",
              "    <path d=\"M0 0h24v24H0V0z\" fill=\"none\"/>\n",
              "    <path d=\"M18.56 5.44l.94 2.06.94-2.06 2.06-.94-2.06-.94-.94-2.06-.94 2.06-2.06.94zm-11 1L8.5 8.5l.94-2.06 2.06-.94-2.06-.94L8.5 2.5l-.94 2.06-2.06.94zm10 10l.94 2.06.94-2.06 2.06-.94-2.06-.94-.94-2.06-.94 2.06-2.06.94z\"/><path d=\"M17.41 7.96l-1.37-1.37c-.4-.4-.92-.59-1.43-.59-.52 0-1.04.2-1.43.59L10.3 9.45l-7.72 7.72c-.78.78-.78 2.05 0 2.83L4 21.41c.39.39.9.59 1.41.59.51 0 1.02-.2 1.41-.59l7.78-7.78 2.81-2.81c.8-.78.8-2.07 0-2.86zM5.41 20L4 18.59l7.72-7.72 1.47 1.35L5.41 20z\"/>\n",
              "  </svg>\n",
              "      </button>\n",
              "      \n",
              "  <style>\n",
              "    .colab-df-container {\n",
              "      display:flex;\n",
              "      flex-wrap:wrap;\n",
              "      gap: 12px;\n",
              "    }\n",
              "\n",
              "    .colab-df-convert {\n",
              "      background-color: #E8F0FE;\n",
              "      border: none;\n",
              "      border-radius: 50%;\n",
              "      cursor: pointer;\n",
              "      display: none;\n",
              "      fill: #1967D2;\n",
              "      height: 32px;\n",
              "      padding: 0 0 0 0;\n",
              "      width: 32px;\n",
              "    }\n",
              "\n",
              "    .colab-df-convert:hover {\n",
              "      background-color: #E2EBFA;\n",
              "      box-shadow: 0px 1px 2px rgba(60, 64, 67, 0.3), 0px 1px 3px 1px rgba(60, 64, 67, 0.15);\n",
              "      fill: #174EA6;\n",
              "    }\n",
              "\n",
              "    [theme=dark] .colab-df-convert {\n",
              "      background-color: #3B4455;\n",
              "      fill: #D2E3FC;\n",
              "    }\n",
              "\n",
              "    [theme=dark] .colab-df-convert:hover {\n",
              "      background-color: #434B5C;\n",
              "      box-shadow: 0px 1px 3px 1px rgba(0, 0, 0, 0.15);\n",
              "      filter: drop-shadow(0px 1px 2px rgba(0, 0, 0, 0.3));\n",
              "      fill: #FFFFFF;\n",
              "    }\n",
              "  </style>\n",
              "\n",
              "      <script>\n",
              "        const buttonEl =\n",
              "          document.querySelector('#df-17602064-b9b2-40bd-9e98-b04b9a309755 button.colab-df-convert');\n",
              "        buttonEl.style.display =\n",
              "          google.colab.kernel.accessAllowed ? 'block' : 'none';\n",
              "\n",
              "        async function convertToInteractive(key) {\n",
              "          const element = document.querySelector('#df-17602064-b9b2-40bd-9e98-b04b9a309755');\n",
              "          const dataTable =\n",
              "            await google.colab.kernel.invokeFunction('convertToInteractive',\n",
              "                                                     [key], {});\n",
              "          if (!dataTable) return;\n",
              "\n",
              "          const docLinkHtml = 'Like what you see? Visit the ' +\n",
              "            '<a target=\"_blank\" href=https://colab.research.google.com/notebooks/data_table.ipynb>data table notebook</a>'\n",
              "            + ' to learn more about interactive tables.';\n",
              "          element.innerHTML = '';\n",
              "          dataTable['output_type'] = 'display_data';\n",
              "          await google.colab.output.renderOutput(dataTable, element);\n",
              "          const docLink = document.createElement('div');\n",
              "          docLink.innerHTML = docLinkHtml;\n",
              "          element.appendChild(docLink);\n",
              "        }\n",
              "      </script>\n",
              "    </div>\n",
              "  </div>\n",
              "  "
            ]
          },
          "metadata": {},
          "execution_count": 5
        }
      ]
    },
    {
      "cell_type": "markdown",
      "source": [
        "Above we can see that **38% out of the training-set survived the Titanic.** We can also see that the passenger ages range from 0.4 to 80. On top of that we can already detect some features, that contain missing values, like the ‘Age’ feature."
      ],
      "metadata": {
        "id": "5Fa9cH0AXCFD"
      }
    },
    {
      "cell_type": "code",
      "source": [
        "train_df.head(8)"
      ],
      "metadata": {
        "colab": {
          "base_uri": "https://localhost:8080/",
          "height": 344
        },
        "id": "LqY-dcJbXFiX",
        "outputId": "3eb9b966-7bb4-4ce7-ed3d-7179863e7729"
      },
      "execution_count": null,
      "outputs": [
        {
          "output_type": "execute_result",
          "data": {
            "text/plain": [
              "   PassengerId  Survived  Pclass  \\\n",
              "0            1         0       3   \n",
              "1            2         1       1   \n",
              "2            3         1       3   \n",
              "3            4         1       1   \n",
              "4            5         0       3   \n",
              "5            6         0       3   \n",
              "6            7         0       1   \n",
              "7            8         0       3   \n",
              "\n",
              "                                                Name     Sex   Age  SibSp  \\\n",
              "0                            Braund, Mr. Owen Harris    male  22.0      1   \n",
              "1  Cumings, Mrs. John Bradley (Florence Briggs Th...  female  38.0      1   \n",
              "2                             Heikkinen, Miss. Laina  female  26.0      0   \n",
              "3       Futrelle, Mrs. Jacques Heath (Lily May Peel)  female  35.0      1   \n",
              "4                           Allen, Mr. William Henry    male  35.0      0   \n",
              "5                                   Moran, Mr. James    male   NaN      0   \n",
              "6                            McCarthy, Mr. Timothy J    male  54.0      0   \n",
              "7                     Palsson, Master. Gosta Leonard    male   2.0      3   \n",
              "\n",
              "   Parch            Ticket     Fare Cabin Embarked  \n",
              "0      0         A/5 21171   7.2500   NaN        S  \n",
              "1      0          PC 17599  71.2833   C85        C  \n",
              "2      0  STON/O2. 3101282   7.9250   NaN        S  \n",
              "3      0            113803  53.1000  C123        S  \n",
              "4      0            373450   8.0500   NaN        S  \n",
              "5      0            330877   8.4583   NaN        Q  \n",
              "6      0             17463  51.8625   E46        S  \n",
              "7      1            349909  21.0750   NaN        S  "
            ],
            "text/html": [
              "\n",
              "  <div id=\"df-a63db602-5fd1-4dff-b0e4-0e80140eef74\">\n",
              "    <div class=\"colab-df-container\">\n",
              "      <div>\n",
              "<style scoped>\n",
              "    .dataframe tbody tr th:only-of-type {\n",
              "        vertical-align: middle;\n",
              "    }\n",
              "\n",
              "    .dataframe tbody tr th {\n",
              "        vertical-align: top;\n",
              "    }\n",
              "\n",
              "    .dataframe thead th {\n",
              "        text-align: right;\n",
              "    }\n",
              "</style>\n",
              "<table border=\"1\" class=\"dataframe\">\n",
              "  <thead>\n",
              "    <tr style=\"text-align: right;\">\n",
              "      <th></th>\n",
              "      <th>PassengerId</th>\n",
              "      <th>Survived</th>\n",
              "      <th>Pclass</th>\n",
              "      <th>Name</th>\n",
              "      <th>Sex</th>\n",
              "      <th>Age</th>\n",
              "      <th>SibSp</th>\n",
              "      <th>Parch</th>\n",
              "      <th>Ticket</th>\n",
              "      <th>Fare</th>\n",
              "      <th>Cabin</th>\n",
              "      <th>Embarked</th>\n",
              "    </tr>\n",
              "  </thead>\n",
              "  <tbody>\n",
              "    <tr>\n",
              "      <th>0</th>\n",
              "      <td>1</td>\n",
              "      <td>0</td>\n",
              "      <td>3</td>\n",
              "      <td>Braund, Mr. Owen Harris</td>\n",
              "      <td>male</td>\n",
              "      <td>22.0</td>\n",
              "      <td>1</td>\n",
              "      <td>0</td>\n",
              "      <td>A/5 21171</td>\n",
              "      <td>7.2500</td>\n",
              "      <td>NaN</td>\n",
              "      <td>S</td>\n",
              "    </tr>\n",
              "    <tr>\n",
              "      <th>1</th>\n",
              "      <td>2</td>\n",
              "      <td>1</td>\n",
              "      <td>1</td>\n",
              "      <td>Cumings, Mrs. John Bradley (Florence Briggs Th...</td>\n",
              "      <td>female</td>\n",
              "      <td>38.0</td>\n",
              "      <td>1</td>\n",
              "      <td>0</td>\n",
              "      <td>PC 17599</td>\n",
              "      <td>71.2833</td>\n",
              "      <td>C85</td>\n",
              "      <td>C</td>\n",
              "    </tr>\n",
              "    <tr>\n",
              "      <th>2</th>\n",
              "      <td>3</td>\n",
              "      <td>1</td>\n",
              "      <td>3</td>\n",
              "      <td>Heikkinen, Miss. Laina</td>\n",
              "      <td>female</td>\n",
              "      <td>26.0</td>\n",
              "      <td>0</td>\n",
              "      <td>0</td>\n",
              "      <td>STON/O2. 3101282</td>\n",
              "      <td>7.9250</td>\n",
              "      <td>NaN</td>\n",
              "      <td>S</td>\n",
              "    </tr>\n",
              "    <tr>\n",
              "      <th>3</th>\n",
              "      <td>4</td>\n",
              "      <td>1</td>\n",
              "      <td>1</td>\n",
              "      <td>Futrelle, Mrs. Jacques Heath (Lily May Peel)</td>\n",
              "      <td>female</td>\n",
              "      <td>35.0</td>\n",
              "      <td>1</td>\n",
              "      <td>0</td>\n",
              "      <td>113803</td>\n",
              "      <td>53.1000</td>\n",
              "      <td>C123</td>\n",
              "      <td>S</td>\n",
              "    </tr>\n",
              "    <tr>\n",
              "      <th>4</th>\n",
              "      <td>5</td>\n",
              "      <td>0</td>\n",
              "      <td>3</td>\n",
              "      <td>Allen, Mr. William Henry</td>\n",
              "      <td>male</td>\n",
              "      <td>35.0</td>\n",
              "      <td>0</td>\n",
              "      <td>0</td>\n",
              "      <td>373450</td>\n",
              "      <td>8.0500</td>\n",
              "      <td>NaN</td>\n",
              "      <td>S</td>\n",
              "    </tr>\n",
              "    <tr>\n",
              "      <th>5</th>\n",
              "      <td>6</td>\n",
              "      <td>0</td>\n",
              "      <td>3</td>\n",
              "      <td>Moran, Mr. James</td>\n",
              "      <td>male</td>\n",
              "      <td>NaN</td>\n",
              "      <td>0</td>\n",
              "      <td>0</td>\n",
              "      <td>330877</td>\n",
              "      <td>8.4583</td>\n",
              "      <td>NaN</td>\n",
              "      <td>Q</td>\n",
              "    </tr>\n",
              "    <tr>\n",
              "      <th>6</th>\n",
              "      <td>7</td>\n",
              "      <td>0</td>\n",
              "      <td>1</td>\n",
              "      <td>McCarthy, Mr. Timothy J</td>\n",
              "      <td>male</td>\n",
              "      <td>54.0</td>\n",
              "      <td>0</td>\n",
              "      <td>0</td>\n",
              "      <td>17463</td>\n",
              "      <td>51.8625</td>\n",
              "      <td>E46</td>\n",
              "      <td>S</td>\n",
              "    </tr>\n",
              "    <tr>\n",
              "      <th>7</th>\n",
              "      <td>8</td>\n",
              "      <td>0</td>\n",
              "      <td>3</td>\n",
              "      <td>Palsson, Master. Gosta Leonard</td>\n",
              "      <td>male</td>\n",
              "      <td>2.0</td>\n",
              "      <td>3</td>\n",
              "      <td>1</td>\n",
              "      <td>349909</td>\n",
              "      <td>21.0750</td>\n",
              "      <td>NaN</td>\n",
              "      <td>S</td>\n",
              "    </tr>\n",
              "  </tbody>\n",
              "</table>\n",
              "</div>\n",
              "      <button class=\"colab-df-convert\" onclick=\"convertToInteractive('df-a63db602-5fd1-4dff-b0e4-0e80140eef74')\"\n",
              "              title=\"Convert this dataframe to an interactive table.\"\n",
              "              style=\"display:none;\">\n",
              "        \n",
              "  <svg xmlns=\"http://www.w3.org/2000/svg\" height=\"24px\"viewBox=\"0 0 24 24\"\n",
              "       width=\"24px\">\n",
              "    <path d=\"M0 0h24v24H0V0z\" fill=\"none\"/>\n",
              "    <path d=\"M18.56 5.44l.94 2.06.94-2.06 2.06-.94-2.06-.94-.94-2.06-.94 2.06-2.06.94zm-11 1L8.5 8.5l.94-2.06 2.06-.94-2.06-.94L8.5 2.5l-.94 2.06-2.06.94zm10 10l.94 2.06.94-2.06 2.06-.94-2.06-.94-.94-2.06-.94 2.06-2.06.94z\"/><path d=\"M17.41 7.96l-1.37-1.37c-.4-.4-.92-.59-1.43-.59-.52 0-1.04.2-1.43.59L10.3 9.45l-7.72 7.72c-.78.78-.78 2.05 0 2.83L4 21.41c.39.39.9.59 1.41.59.51 0 1.02-.2 1.41-.59l7.78-7.78 2.81-2.81c.8-.78.8-2.07 0-2.86zM5.41 20L4 18.59l7.72-7.72 1.47 1.35L5.41 20z\"/>\n",
              "  </svg>\n",
              "      </button>\n",
              "      \n",
              "  <style>\n",
              "    .colab-df-container {\n",
              "      display:flex;\n",
              "      flex-wrap:wrap;\n",
              "      gap: 12px;\n",
              "    }\n",
              "\n",
              "    .colab-df-convert {\n",
              "      background-color: #E8F0FE;\n",
              "      border: none;\n",
              "      border-radius: 50%;\n",
              "      cursor: pointer;\n",
              "      display: none;\n",
              "      fill: #1967D2;\n",
              "      height: 32px;\n",
              "      padding: 0 0 0 0;\n",
              "      width: 32px;\n",
              "    }\n",
              "\n",
              "    .colab-df-convert:hover {\n",
              "      background-color: #E2EBFA;\n",
              "      box-shadow: 0px 1px 2px rgba(60, 64, 67, 0.3), 0px 1px 3px 1px rgba(60, 64, 67, 0.15);\n",
              "      fill: #174EA6;\n",
              "    }\n",
              "\n",
              "    [theme=dark] .colab-df-convert {\n",
              "      background-color: #3B4455;\n",
              "      fill: #D2E3FC;\n",
              "    }\n",
              "\n",
              "    [theme=dark] .colab-df-convert:hover {\n",
              "      background-color: #434B5C;\n",
              "      box-shadow: 0px 1px 3px 1px rgba(0, 0, 0, 0.15);\n",
              "      filter: drop-shadow(0px 1px 2px rgba(0, 0, 0, 0.3));\n",
              "      fill: #FFFFFF;\n",
              "    }\n",
              "  </style>\n",
              "\n",
              "      <script>\n",
              "        const buttonEl =\n",
              "          document.querySelector('#df-a63db602-5fd1-4dff-b0e4-0e80140eef74 button.colab-df-convert');\n",
              "        buttonEl.style.display =\n",
              "          google.colab.kernel.accessAllowed ? 'block' : 'none';\n",
              "\n",
              "        async function convertToInteractive(key) {\n",
              "          const element = document.querySelector('#df-a63db602-5fd1-4dff-b0e4-0e80140eef74');\n",
              "          const dataTable =\n",
              "            await google.colab.kernel.invokeFunction('convertToInteractive',\n",
              "                                                     [key], {});\n",
              "          if (!dataTable) return;\n",
              "\n",
              "          const docLinkHtml = 'Like what you see? Visit the ' +\n",
              "            '<a target=\"_blank\" href=https://colab.research.google.com/notebooks/data_table.ipynb>data table notebook</a>'\n",
              "            + ' to learn more about interactive tables.';\n",
              "          element.innerHTML = '';\n",
              "          dataTable['output_type'] = 'display_data';\n",
              "          await google.colab.output.renderOutput(dataTable, element);\n",
              "          const docLink = document.createElement('div');\n",
              "          docLink.innerHTML = docLinkHtml;\n",
              "          element.appendChild(docLink);\n",
              "        }\n",
              "      </script>\n",
              "    </div>\n",
              "  </div>\n",
              "  "
            ]
          },
          "metadata": {},
          "execution_count": 6
        }
      ]
    },
    {
      "cell_type": "markdown",
      "source": [
        "From the table above, we can note a few things. First of all, that we **need to convert a lot of features into numeric** ones later on, so that the machine learning algorithms can process them. Furthermore, we can see that the **features have widely different ranges,** that we will need to convert into roughly the same scale. We can also spot some more features, that contain missing values (NaN = not a number), that wee need to deal with."
      ],
      "metadata": {
        "id": "N-EJhmBBXMTo"
      }
    },
    {
      "cell_type": "markdown",
      "source": [
        "**Let’s take a more detailed look at what data is actually missing:**"
      ],
      "metadata": {
        "id": "yp6e3ruHXT_f"
      }
    },
    {
      "cell_type": "code",
      "source": [
        "total = train_df.isnull().sum().sort_values(ascending=False)\n",
        "percent_1 = train_df.isnull().sum()/train_df.isnull().count()*100\n",
        "percent_2 = (round(percent_1, 1)).sort_values(ascending=False)\n",
        "missing_data = pd.concat([total, percent_2], axis=1, keys=['Total', '%'])\n",
        "missing_data.head(5)"
      ],
      "metadata": {
        "colab": {
          "base_uri": "https://localhost:8080/",
          "height": 206
        },
        "id": "2sZl5Ga_XVzY",
        "outputId": "583cc1b5-5b18-4586-c967-52998a8ea0bf"
      },
      "execution_count": null,
      "outputs": [
        {
          "output_type": "execute_result",
          "data": {
            "text/plain": [
              "             Total     %\n",
              "Cabin          687  77.1\n",
              "Age            177  19.9\n",
              "Embarked         2   0.2\n",
              "PassengerId      0   0.0\n",
              "Survived         0   0.0"
            ],
            "text/html": [
              "\n",
              "  <div id=\"df-0a15ea99-7784-49d6-9d12-368cc6537673\">\n",
              "    <div class=\"colab-df-container\">\n",
              "      <div>\n",
              "<style scoped>\n",
              "    .dataframe tbody tr th:only-of-type {\n",
              "        vertical-align: middle;\n",
              "    }\n",
              "\n",
              "    .dataframe tbody tr th {\n",
              "        vertical-align: top;\n",
              "    }\n",
              "\n",
              "    .dataframe thead th {\n",
              "        text-align: right;\n",
              "    }\n",
              "</style>\n",
              "<table border=\"1\" class=\"dataframe\">\n",
              "  <thead>\n",
              "    <tr style=\"text-align: right;\">\n",
              "      <th></th>\n",
              "      <th>Total</th>\n",
              "      <th>%</th>\n",
              "    </tr>\n",
              "  </thead>\n",
              "  <tbody>\n",
              "    <tr>\n",
              "      <th>Cabin</th>\n",
              "      <td>687</td>\n",
              "      <td>77.1</td>\n",
              "    </tr>\n",
              "    <tr>\n",
              "      <th>Age</th>\n",
              "      <td>177</td>\n",
              "      <td>19.9</td>\n",
              "    </tr>\n",
              "    <tr>\n",
              "      <th>Embarked</th>\n",
              "      <td>2</td>\n",
              "      <td>0.2</td>\n",
              "    </tr>\n",
              "    <tr>\n",
              "      <th>PassengerId</th>\n",
              "      <td>0</td>\n",
              "      <td>0.0</td>\n",
              "    </tr>\n",
              "    <tr>\n",
              "      <th>Survived</th>\n",
              "      <td>0</td>\n",
              "      <td>0.0</td>\n",
              "    </tr>\n",
              "  </tbody>\n",
              "</table>\n",
              "</div>\n",
              "      <button class=\"colab-df-convert\" onclick=\"convertToInteractive('df-0a15ea99-7784-49d6-9d12-368cc6537673')\"\n",
              "              title=\"Convert this dataframe to an interactive table.\"\n",
              "              style=\"display:none;\">\n",
              "        \n",
              "  <svg xmlns=\"http://www.w3.org/2000/svg\" height=\"24px\"viewBox=\"0 0 24 24\"\n",
              "       width=\"24px\">\n",
              "    <path d=\"M0 0h24v24H0V0z\" fill=\"none\"/>\n",
              "    <path d=\"M18.56 5.44l.94 2.06.94-2.06 2.06-.94-2.06-.94-.94-2.06-.94 2.06-2.06.94zm-11 1L8.5 8.5l.94-2.06 2.06-.94-2.06-.94L8.5 2.5l-.94 2.06-2.06.94zm10 10l.94 2.06.94-2.06 2.06-.94-2.06-.94-.94-2.06-.94 2.06-2.06.94z\"/><path d=\"M17.41 7.96l-1.37-1.37c-.4-.4-.92-.59-1.43-.59-.52 0-1.04.2-1.43.59L10.3 9.45l-7.72 7.72c-.78.78-.78 2.05 0 2.83L4 21.41c.39.39.9.59 1.41.59.51 0 1.02-.2 1.41-.59l7.78-7.78 2.81-2.81c.8-.78.8-2.07 0-2.86zM5.41 20L4 18.59l7.72-7.72 1.47 1.35L5.41 20z\"/>\n",
              "  </svg>\n",
              "      </button>\n",
              "      \n",
              "  <style>\n",
              "    .colab-df-container {\n",
              "      display:flex;\n",
              "      flex-wrap:wrap;\n",
              "      gap: 12px;\n",
              "    }\n",
              "\n",
              "    .colab-df-convert {\n",
              "      background-color: #E8F0FE;\n",
              "      border: none;\n",
              "      border-radius: 50%;\n",
              "      cursor: pointer;\n",
              "      display: none;\n",
              "      fill: #1967D2;\n",
              "      height: 32px;\n",
              "      padding: 0 0 0 0;\n",
              "      width: 32px;\n",
              "    }\n",
              "\n",
              "    .colab-df-convert:hover {\n",
              "      background-color: #E2EBFA;\n",
              "      box-shadow: 0px 1px 2px rgba(60, 64, 67, 0.3), 0px 1px 3px 1px rgba(60, 64, 67, 0.15);\n",
              "      fill: #174EA6;\n",
              "    }\n",
              "\n",
              "    [theme=dark] .colab-df-convert {\n",
              "      background-color: #3B4455;\n",
              "      fill: #D2E3FC;\n",
              "    }\n",
              "\n",
              "    [theme=dark] .colab-df-convert:hover {\n",
              "      background-color: #434B5C;\n",
              "      box-shadow: 0px 1px 3px 1px rgba(0, 0, 0, 0.15);\n",
              "      filter: drop-shadow(0px 1px 2px rgba(0, 0, 0, 0.3));\n",
              "      fill: #FFFFFF;\n",
              "    }\n",
              "  </style>\n",
              "\n",
              "      <script>\n",
              "        const buttonEl =\n",
              "          document.querySelector('#df-0a15ea99-7784-49d6-9d12-368cc6537673 button.colab-df-convert');\n",
              "        buttonEl.style.display =\n",
              "          google.colab.kernel.accessAllowed ? 'block' : 'none';\n",
              "\n",
              "        async function convertToInteractive(key) {\n",
              "          const element = document.querySelector('#df-0a15ea99-7784-49d6-9d12-368cc6537673');\n",
              "          const dataTable =\n",
              "            await google.colab.kernel.invokeFunction('convertToInteractive',\n",
              "                                                     [key], {});\n",
              "          if (!dataTable) return;\n",
              "\n",
              "          const docLinkHtml = 'Like what you see? Visit the ' +\n",
              "            '<a target=\"_blank\" href=https://colab.research.google.com/notebooks/data_table.ipynb>data table notebook</a>'\n",
              "            + ' to learn more about interactive tables.';\n",
              "          element.innerHTML = '';\n",
              "          dataTable['output_type'] = 'display_data';\n",
              "          await google.colab.output.renderOutput(dataTable, element);\n",
              "          const docLink = document.createElement('div');\n",
              "          docLink.innerHTML = docLinkHtml;\n",
              "          element.appendChild(docLink);\n",
              "        }\n",
              "      </script>\n",
              "    </div>\n",
              "  </div>\n",
              "  "
            ]
          },
          "metadata": {},
          "execution_count": 8
        }
      ]
    },
    {
      "cell_type": "markdown",
      "source": [
        "The Embarked feature has only 2 missing values, which can easily be filled. It will be much more tricky, to deal with the ‘Age’ feature, which has 177 missing values. The ‘Cabin’ feature needs further investigation, but it looks like that we might want to drop it from the dataset, since 77 % of it are missing."
      ],
      "metadata": {
        "id": "XnPYQp8bXjlg"
      }
    },
    {
      "cell_type": "code",
      "source": [
        "train_df.columns.values"
      ],
      "metadata": {
        "colab": {
          "base_uri": "https://localhost:8080/"
        },
        "id": "HBHbhP56XkJp",
        "outputId": "3f6f1e90-f26b-45af-d538-7d8765064233"
      },
      "execution_count": null,
      "outputs": [
        {
          "output_type": "execute_result",
          "data": {
            "text/plain": [
              "array(['PassengerId', 'Survived', 'Pclass', 'Name', 'Sex', 'Age', 'SibSp',\n",
              "       'Parch', 'Ticket', 'Fare', 'Cabin', 'Embarked'], dtype=object)"
            ]
          },
          "metadata": {},
          "execution_count": 9
        }
      ]
    },
    {
      "cell_type": "markdown",
      "source": [],
      "metadata": {
        "id": "DU2sjLNbXnj8"
      }
    },
    {
      "cell_type": "markdown",
      "source": [
        "Above you can see the 11 features + the target variable (survived). **What features could contribute to a high survival rate ?**\n",
        "\n",
        "To me it would make sense if everything except ‘PassengerId’, ‘Ticket’ and ‘Name’ would be correlated with a high survival rate."
      ],
      "metadata": {
        "id": "d4p5E3O_Xnqe"
      }
    },
    {
      "cell_type": "markdown",
      "source": [
        "**1. Age and Sex:**"
      ],
      "metadata": {
        "id": "wnTLYUo4Xrwa"
      }
    },
    {
      "cell_type": "code",
      "source": [
        "survived = 'survived'\n",
        "not_survived = 'not survived'\n",
        "fig, axes = plt.subplots(nrows=1, ncols=2,figsize=(10, 4))\n",
        "women = train_df[train_df['Sex']=='female']\n",
        "men = train_df[train_df['Sex']=='male']\n",
        "ax = sns.distplot(women[women['Survived']==1].Age.dropna(), bins=18, label = survived, ax = axes[0], kde =False)\n",
        "ax = sns.distplot(women[women['Survived']==0].Age.dropna(), bins=40, label = not_survived, ax = axes[0], kde =False)\n",
        "ax.legend()\n",
        "ax.set_title('Female')\n",
        "ax = sns.distplot(men[men['Survived']==1].Age.dropna(), bins=18, label = survived, ax = axes[1], kde = False)\n",
        "ax = sns.distplot(men[men['Survived']==0].Age.dropna(), bins=40, label = not_survived, ax = axes[1], kde = False)\n",
        "ax.legend()\n",
        "_ = ax.set_title('Male')"
      ],
      "metadata": {
        "colab": {
          "base_uri": "https://localhost:8080/",
          "height": 1000
        },
        "id": "742PF14yXqFg",
        "outputId": "b4771dbe-d947-4977-aa77-08f5c3cd40af"
      },
      "execution_count": null,
      "outputs": [
        {
          "output_type": "stream",
          "name": "stderr",
          "text": [
            "<ipython-input-10-b1095ef171e7>:6: UserWarning: \n",
            "\n",
            "`distplot` is a deprecated function and will be removed in seaborn v0.14.0.\n",
            "\n",
            "Please adapt your code to use either `displot` (a figure-level function with\n",
            "similar flexibility) or `histplot` (an axes-level function for histograms).\n",
            "\n",
            "For a guide to updating your code to use the new functions, please see\n",
            "https://gist.github.com/mwaskom/de44147ed2974457ad6372750bbe5751\n",
            "\n",
            "  ax = sns.distplot(women[women['Survived']==1].Age.dropna(), bins=18, label = survived, ax = axes[0], kde =False)\n",
            "<ipython-input-10-b1095ef171e7>:7: UserWarning: \n",
            "\n",
            "`distplot` is a deprecated function and will be removed in seaborn v0.14.0.\n",
            "\n",
            "Please adapt your code to use either `displot` (a figure-level function with\n",
            "similar flexibility) or `histplot` (an axes-level function for histograms).\n",
            "\n",
            "For a guide to updating your code to use the new functions, please see\n",
            "https://gist.github.com/mwaskom/de44147ed2974457ad6372750bbe5751\n",
            "\n",
            "  ax = sns.distplot(women[women['Survived']==0].Age.dropna(), bins=40, label = not_survived, ax = axes[0], kde =False)\n",
            "<ipython-input-10-b1095ef171e7>:10: UserWarning: \n",
            "\n",
            "`distplot` is a deprecated function and will be removed in seaborn v0.14.0.\n",
            "\n",
            "Please adapt your code to use either `displot` (a figure-level function with\n",
            "similar flexibility) or `histplot` (an axes-level function for histograms).\n",
            "\n",
            "For a guide to updating your code to use the new functions, please see\n",
            "https://gist.github.com/mwaskom/de44147ed2974457ad6372750bbe5751\n",
            "\n",
            "  ax = sns.distplot(men[men['Survived']==1].Age.dropna(), bins=18, label = survived, ax = axes[1], kde = False)\n",
            "<ipython-input-10-b1095ef171e7>:11: UserWarning: \n",
            "\n",
            "`distplot` is a deprecated function and will be removed in seaborn v0.14.0.\n",
            "\n",
            "Please adapt your code to use either `displot` (a figure-level function with\n",
            "similar flexibility) or `histplot` (an axes-level function for histograms).\n",
            "\n",
            "For a guide to updating your code to use the new functions, please see\n",
            "https://gist.github.com/mwaskom/de44147ed2974457ad6372750bbe5751\n",
            "\n",
            "  ax = sns.distplot(men[men['Survived']==0].Age.dropna(), bins=40, label = not_survived, ax = axes[1], kde = False)\n"
          ]
        },
        {
          "output_type": "display_data",
          "data": {
            "text/plain": [
              "<Figure size 1000x400 with 2 Axes>"
            ],
            "image/png": "[encoded data removed]"
          },
          "metadata": {}
        }
      ]
    },
    {
      "cell_type": "markdown",
      "source": [
        "You can see that men have a high probability of survival when they are between 18 and 30 years old, which is also a little bit true for women but not fully. For women the survival chances are higher between 14 and 40.\n",
        "\n",
        "For men the probability of survival is very low between the age of 5 and 18, but that isn’t true for women. Another thing to note is that infants also have a little bit higher probability of survival.\n",
        "\n",
        "Since there seem to be **certain ages, which have increased odds of survival **and because I want every feature to be roughly on the same scale, I will create age groups later on."
      ],
      "metadata": {
        "id": "V-wQtInEX8qP"
      }
    },
    {
      "cell_type": "markdown",
      "source": [
        "**2. Embarked, Pclass and Sex:**"
      ],
      "metadata": {
        "id": "2PqBPIR4YE3J"
      }
    },
    {
      "cell_type": "code",
      "source": [
        "FacetGrid = sns.FacetGrid(train_df, row='Embarked', aspect=1.6)\n",
        "FacetGrid.map(sns.pointplot, 'Pclass', 'Survived', 'Sex', palette=None,  order=None, hue_order=None )\n",
        "FacetGrid.add_legend()"
      ],
      "metadata": {
        "colab": {
          "base_uri": "https://localhost:8080/",
          "height": 923
        },
        "id": "mJkHoBVFYHvf",
        "outputId": "83e10dc0-f1e3-43be-b3e1-564059db9283"
      },
      "execution_count": null,
      "outputs": [
        {
          "output_type": "execute_result",
          "data": {
            "text/plain": [
              "<seaborn.axisgrid.FacetGrid at 0x7f28c09cb6a0>"
            ]
          },
          "metadata": {},
          "execution_count": 12
        },
        {
          "output_type": "display_data",
          "data": {
            "text/plain": [
              "<Figure size 578x900 with 3 Axes>"
            ],
            "image/png": "[encoded data removed]"
          },
          "metadata": {}
        }
      ]
    },
    {
      "cell_type": "markdown",
      "source": [
        "Embarked seems to be correlated with survival, depending on the gender.\n",
        "\n",
        "Women on port Q and on port S have a higher chance of survival. The inverse is true, if they are at port C. Men have a high survival probability if they are on port C, but a low probability if they are on port Q or S.\n",
        "\n",
        "Pclass also seems to be correlated with survival. We will generate another plot of it below."
      ],
      "metadata": {
        "id": "4VzGkqHNYbqn"
      }
    },
    {
      "cell_type": "markdown",
      "source": [
        "**3. Pclass:**"
      ],
      "metadata": {
        "id": "KLUIk_b_Ymbz"
      }
    },
    {
      "cell_type": "code",
      "source": [
        "sns.barplot(x='Pclass', y='Survived', data=train_df)"
      ],
      "metadata": {
        "colab": {
          "base_uri": "https://localhost:8080/",
          "height": 466
        },
        "id": "lppdPc58YdsL",
        "outputId": "e68a3dad-7c42-4207-ffe2-7ff63afd2089"
      },
      "execution_count": null,
      "outputs": [
        {
          "output_type": "execute_result",
          "data": {
            "text/plain": [
              "<Axes: xlabel='Pclass', ylabel='Survived'>"
            ]
          },
          "metadata": {},
          "execution_count": 13
        },
        {
          "output_type": "display_data",
          "data": {
            "text/plain": [
              "<Figure size 640x480 with 1 Axes>"
            ],
            "image/png": "[encoded data removed]"
          },
          "metadata": {}
        }
      ]
    },
    {
      "cell_type": "markdown",
      "source": [
        "Here we see clearly, that Pclass is contributing to a persons chance of survival, especially if this person is in class 1. We will create another pclass plot below."
      ],
      "metadata": {
        "id": "PUtHSe9eYrrn"
      }
    },
    {
      "cell_type": "code",
      "source": [
        "grid = sns.FacetGrid(train_df, col='Survived', row='Pclass', aspect=1.6)\n",
        "grid.map(plt.hist, 'Age', alpha=.5, bins=20)\n",
        "grid.add_legend();"
      ],
      "metadata": {
        "colab": {
          "base_uri": "https://localhost:8080/",
          "height": 907
        },
        "id": "SdLIDk5VYu0z",
        "outputId": "401251d4-e857-4ad7-bc32-c674585fa933"
      },
      "execution_count": null,
      "outputs": [
        {
          "output_type": "display_data",
          "data": {
            "text/plain": [
              "<Figure size 971.111x900 with 6 Axes>"
            ],
            "image/png": "[encoded data removed]"
          },
          "metadata": {}
        }
      ]
    },
    {
      "cell_type": "markdown",
      "source": [
        "The plot above confirms our assumption about pclass 1, but we can also spot a high probability that a person in pclass 3 will not survive."
      ],
      "metadata": {
        "id": "X9cq-aRWY3ut"
      }
    },
    {
      "cell_type": "markdown",
      "source": [
        "**4. SibSp and Parch:**"
      ],
      "metadata": {
        "id": "eC7ZtkJeY47P"
      }
    },
    {
      "cell_type": "markdown",
      "source": [
        "SibSp and Parch would make more sense as a combined feature, that shows the total number of relatives, a person has on the Titanic. I will create it below and also a feature that sows if someone is not alone."
      ],
      "metadata": {
        "id": "pQsxCEfAY9YQ"
      }
    },
    {
      "cell_type": "code",
      "source": [
        "data = [train_df, test_df]\n",
        "for dataset in data:\n",
        "    dataset['relatives'] = dataset['SibSp'] + dataset['Parch']\n",
        "    dataset.loc[dataset['relatives'] > 0, 'not_alone'] = 0\n",
        "    dataset.loc[dataset['relatives'] == 0, 'not_alone'] = 1\n",
        "    dataset['not_alone'] = dataset['not_alone'].astype(int)\n",
        "train_df['not_alone'].value_counts()"
      ],
      "metadata": {
        "colab": {
          "base_uri": "https://localhost:8080/"
        },
        "id": "qp4gBkpiY7jj",
        "outputId": "596b1288-d50c-405d-b092-5b6c2dec90cb"
      },
      "execution_count": null,
      "outputs": [
        {
          "output_type": "execute_result",
          "data": {
            "text/plain": [
              "1    537\n",
              "0    354\n",
              "Name: not_alone, dtype: int64"
            ]
          },
          "metadata": {},
          "execution_count": 18
        }
      ]
    },
    {
      "cell_type": "markdown",
      "source": [
        "**Data Preprocessing**"
      ],
      "metadata": {
        "id": "OSRdzSFBZetR"
      }
    },
    {
      "cell_type": "markdown",
      "source": [
        "First, I will drop ‘PassengerId’ from the train set, because it does not contribute to a persons survival probability. I will not drop it from the test set, since it is required there for the submission."
      ],
      "metadata": {
        "id": "uzwX38ZkZham"
      }
    },
    {
      "cell_type": "code",
      "source": [
        "train_df = train_df.drop(['PassengerId'], axis=1)"
      ],
      "metadata": {
        "id": "-_rgz4YKZfwn"
      },
      "execution_count": null,
      "outputs": []
    },
    {
      "cell_type": "markdown",
      "source": [
        "**Missing Data:**\n",
        "\n",
        "**Cabin:**\n",
        "As a reminder, we have to deal with Cabin (687), Embarked (2) and Age (177). First I thought, we have to delete the ‘Cabin’ variable but then I found something interesting. A cabin number looks like ‘C123’ and the **letter refers to the deck.** Therefore we’re going to extract these and create a new feature, that contains a persons deck. Afterwords we will convert the feature into a numeric variable. The missing values will be converted to zero. In the picture below you can see the actual decks of the titanic, ranging from A to G."
      ],
      "metadata": {
        "id": "2RUf25vaZlJ7"
      }
    },
    {
      "cell_type": "code",
      "source": [
        "import re\n",
        "deck = {\"A\": 1, \"B\": 2, \"C\": 3, \"D\": 4, \"E\": 5, \"F\": 6, \"G\": 7, \"U\": 8}\n",
        "data = [train_df, test_df]\n",
        "\n",
        "for dataset in data:\n",
        "    dataset['Cabin'] = dataset['Cabin'].fillna(\"U0\")\n",
        "    dataset['Deck'] = dataset['Cabin'].map(lambda x: re.compile(\"([a-zA-Z]+)\").search(x).group())\n",
        "    dataset['Deck'] = dataset['Deck'].map(deck)\n",
        "    dataset['Deck'] = dataset['Deck'].fillna(0)\n",
        "    dataset['Deck'] = dataset['Deck'].astype(int)# we can now drop the cabin feature\n",
        "train_df = train_df.drop(['Cabin'], axis=1)\n",
        "test_df = test_df.drop(['Cabin'], axis=1)"
      ],
      "metadata": {
        "id": "ZPUxuXy2Zrjd"
      },
      "execution_count": null,
      "outputs": []
    },
    {
      "cell_type": "markdown",
      "source": [
        "**Age:**\n",
        "Now we can tackle the issue with the age features missing values. I will create an array that contains random numbers, which are computed based on the mean age value in regards to the standard deviation and is_null."
      ],
      "metadata": {
        "id": "XHqsWz0wZvQR"
      }
    },
    {
      "cell_type": "code",
      "source": [
        "data = [train_df, test_df]\n",
        "\n",
        "for dataset in data:\n",
        "    mean = train_df[\"Age\"].mean()\n",
        "    std = test_df[\"Age\"].std()\n",
        "    is_null = dataset[\"Age\"].isnull().sum()\n",
        "    # compute random numbers between the mean, std and is_null\n",
        "    rand_age = np.random.randint(mean - std, mean + std, size = is_null)\n",
        "    # fill NaN values in Age column with random values generated\n",
        "    age_slice = dataset[\"Age\"].copy()\n",
        "    age_slice[np.isnan(age_slice)] = rand_age\n",
        "    dataset[\"Age\"] = age_slice\n",
        "    dataset[\"Age\"] = train_df[\"Age\"].astype(int)\n",
        "train_df[\"Age\"].isnull().sum()"
      ],
      "metadata": {
        "colab": {
          "base_uri": "https://localhost:8080/"
        },
        "id": "Ar3aNAZ5ZwFu",
        "outputId": "7b9423ff-d1e8-425a-c6e5-9d0ac0d9204b"
      },
      "execution_count": null,
      "outputs": [
        {
          "output_type": "execute_result",
          "data": {
            "text/plain": [
              "0"
            ]
          },
          "metadata": {},
          "execution_count": 23
        }
      ]
    },
    {
      "cell_type": "markdown",
      "source": [
        "**Embarked:**\n",
        "\n",
        "Since the Embarked feature has only 2 missing values, we will just fill these with the most common one."
      ],
      "metadata": {
        "id": "zbTvbDKzZ2nG"
      }
    },
    {
      "cell_type": "code",
      "source": [
        "train_df['Embarked'].describe()"
      ],
      "metadata": {
        "colab": {
          "base_uri": "https://localhost:8080/"
        },
        "id": "htvzADv-Z5mx",
        "outputId": "70d52d31-4c83-4f98-bcfd-3a6f5a32fb04"
      },
      "execution_count": null,
      "outputs": [
        {
          "output_type": "execute_result",
          "data": {
            "text/plain": [
              "count     889\n",
              "unique      3\n",
              "top         S\n",
              "freq      644\n",
              "Name: Embarked, dtype: object"
            ]
          },
          "metadata": {},
          "execution_count": 24
        }
      ]
    },
    {
      "cell_type": "code",
      "source": [
        "common_value = 'S'\n",
        "data = [train_df, test_df]\n",
        "\n",
        "for dataset in data:\n",
        "    dataset['Embarked'] = dataset['Embarked'].fillna(common_value)"
      ],
      "metadata": {
        "id": "xZW0XiZFZ8n6"
      },
      "execution_count": null,
      "outputs": []
    },
    {
      "cell_type": "markdown",
      "source": [
        "**Converting Features:**"
      ],
      "metadata": {
        "id": "Gz1-0GKKZ-f4"
      }
    },
    {
      "cell_type": "code",
      "source": [
        "train_df.info()"
      ],
      "metadata": {
        "colab": {
          "base_uri": "https://localhost:8080/"
        },
        "id": "N1HTKNAgZ_I0",
        "outputId": "90813570-371c-41a5-d932-45faef8f37d7"
      },
      "execution_count": null,
      "outputs": [
        {
          "output_type": "stream",
          "name": "stdout",
          "text": [
            "<class 'pandas.core.frame.DataFrame'>\n",
            "RangeIndex: 891 entries, 0 to 890\n",
            "Data columns (total 13 columns):\n",
            " #   Column     Non-Null Count  Dtype  \n",
            "---  ------     --------------  -----  \n",
            " 0   Survived   891 non-null    int64  \n",
            " 1   Pclass     891 non-null    int64  \n",
            " 2   Name       891 non-null    object \n",
            " 3   Sex        891 non-null    object \n",
            " 4   Age        891 non-null    int64  \n",
            " 5   SibSp      891 non-null    int64  \n",
            " 6   Parch      891 non-null    int64  \n",
            " 7   Ticket     891 non-null    object \n",
            " 8   Fare       891 non-null    float64\n",
            " 9   Embarked   891 non-null    object \n",
            " 10  relatives  891 non-null    int64  \n",
            " 11  not_alone  891 non-null    int64  \n",
            " 12  Deck       891 non-null    int64  \n",
            "dtypes: float64(1), int64(8), object(4)\n",
            "memory usage: 90.6+ KB\n"
          ]
        }
      ]
    },
    {
      "cell_type": "markdown",
      "source": [
        "Above you can see that ‘Fare’ is a float and we have to deal with 4 categorical features: Name, Sex, Ticket and Embarked. Lets investigate and transfrom one after another.\n",
        "\n",
        "**Fare**:\n",
        "Converting “Fare” from float to int64, using the “astype()” function pandas provides:"
      ],
      "metadata": {
        "id": "0MolooszaCeH"
      }
    },
    {
      "cell_type": "code",
      "source": [
        "data = [train_df, test_df]\n",
        "\n",
        "for dataset in data:\n",
        "    dataset['Fare'] = dataset['Fare'].fillna(0)\n",
        "    dataset['Fare'] = dataset['Fare'].astype(int)"
      ],
      "metadata": {
        "id": "H5z7ISRHaEbG"
      },
      "execution_count": null,
      "outputs": []
    },
    {
      "cell_type": "markdown",
      "source": [
        "**Name:**\n",
        "We will use the Name feature to extract the Titles from the Name, so that we can build a new feature out of that."
      ],
      "metadata": {
        "id": "99XTueZmaHlF"
      }
    },
    {
      "cell_type": "code",
      "source": [
        "data = [train_df, test_df]\n",
        "titles = {\"Mr\": 1, \"Miss\": 2, \"Mrs\": 3, \"Master\": 4, \"Rare\": 5}\n",
        "\n",
        "for dataset in data:\n",
        "    # extract titles\n",
        "    dataset['Title'] = dataset.Name.str.extract(' ([A-Za-z]+)\\.', expand=False)\n",
        "    # replace titles with a more common title or as Rare\n",
        "    dataset['Title'] = dataset['Title'].replace(['Lady', 'Countess','Capt', 'Col','Don', 'Dr',\\\n",
        "                                            'Major', 'Rev', 'Sir', 'Jonkheer', 'Dona'], 'Rare')\n",
        "    dataset['Title'] = dataset['Title'].replace('Mlle', 'Miss')\n",
        "    dataset['Title'] = dataset['Title'].replace('Ms', 'Miss')\n",
        "    dataset['Title'] = dataset['Title'].replace('Mme', 'Mrs')\n",
        "    # convert titles into numbers\n",
        "    dataset['Title'] = dataset['Title'].map(titles)\n",
        "    # filling NaN with 0, to get safe\n",
        "    dataset['Title'] = dataset['Title'].fillna(0)\n",
        "train_df = train_df.drop(['Name'], axis=1)\n",
        "test_df = test_df.drop(['Name'], axis=1)"
      ],
      "metadata": {
        "id": "YUCPDHoVaJo_"
      },
      "execution_count": null,
      "outputs": []
    },
    {
      "cell_type": "markdown",
      "source": [
        "**Sex:**\n",
        "Convert ‘Sex’ feature into numeric."
      ],
      "metadata": {
        "id": "eez40ZA0aSzv"
      }
    },
    {
      "cell_type": "code",
      "source": [
        "genders = {\"male\": 0, \"female\": 1}\n",
        "data = [train_df, test_df]\n",
        "\n",
        "for dataset in data:\n",
        "    dataset['Sex'] = dataset['Sex'].map(genders)"
      ],
      "metadata": {
        "id": "jLc9FMbcaUCY"
      },
      "execution_count": null,
      "outputs": []
    },
    {
      "cell_type": "markdown",
      "source": [
        "**Ticket:**"
      ],
      "metadata": {
        "id": "HVv2T0txaWou"
      }
    },
    {
      "cell_type": "code",
      "source": [
        "train_df['Ticket'].describe()"
      ],
      "metadata": {
        "colab": {
          "base_uri": "https://localhost:8080/"
        },
        "id": "lzOEn4A7aXR7",
        "outputId": "aceab431-5d00-4016-d683-b644485d08e6"
      },
      "execution_count": null,
      "outputs": [
        {
          "output_type": "execute_result",
          "data": {
            "text/plain": [
              "count        891\n",
              "unique       681\n",
              "top       347082\n",
              "freq           7\n",
              "Name: Ticket, dtype: object"
            ]
          },
          "metadata": {},
          "execution_count": 31
        }
      ]
    },
    {
      "cell_type": "markdown",
      "source": [
        "Since the Ticket attribute has 681 unique tickets, it will be a bit tricky to convert them into useful categories. So we will drop it from the dataset."
      ],
      "metadata": {
        "id": "xx6PDhQpabip"
      }
    },
    {
      "cell_type": "code",
      "source": [
        "train_df = train_df.drop(['Ticket'], axis=1)\n",
        "test_df = test_df.drop(['Ticket'], axis=1)"
      ],
      "metadata": {
        "id": "aU02XhJsadLm"
      },
      "execution_count": null,
      "outputs": []
    },
    {
      "cell_type": "markdown",
      "source": [
        "**Embarked:**\n",
        "Convert ‘Embarked’ feature into numeric."
      ],
      "metadata": {
        "id": "cXwd2fp6aeu_"
      }
    },
    {
      "cell_type": "code",
      "source": [
        "ports = {\"S\": 0, \"C\": 1, \"Q\": 2}\n",
        "data = [train_df, test_df]\n",
        "\n",
        "for dataset in data:\n",
        "    dataset['Embarked'] = dataset['Embarked'].map(ports)"
      ],
      "metadata": {
        "id": "w_9DgQwnafsh"
      },
      "execution_count": null,
      "outputs": []
    },
    {
      "cell_type": "markdown",
      "source": [
        "# **Creating Categories:**"
      ],
      "metadata": {
        "id": "9XihdD2Lajp8"
      }
    },
    {
      "cell_type": "markdown",
      "source": [
        "We will now create categories within the following features:\n",
        "\n",
        "**Age:**\n",
        "Now we need to convert the ‘age’ feature. First we will convert it from float into integer. Then we will create the new ‘AgeGroup” variable, by categorizing every age into a group. Note that it is important to place attention on how you form these groups, since you don’t want for example that 80% of your data falls into group 1."
      ],
      "metadata": {
        "id": "Il6XWvWkanyk"
      }
    },
    {
      "cell_type": "code",
      "source": [
        "data = [train_df, test_df]\n",
        "for dataset in data:\n",
        "    dataset['Age'] = dataset['Age'].astype(int)\n",
        "    dataset.loc[ dataset['Age'] <= 11, 'Age'] = 0\n",
        "    dataset.loc[(dataset['Age'] > 11) & (dataset['Age'] <= 18), 'Age'] = 1\n",
        "    dataset.loc[(dataset['Age'] > 18) & (dataset['Age'] <= 22), 'Age'] = 2\n",
        "    dataset.loc[(dataset['Age'] > 22) & (dataset['Age'] <= 27), 'Age'] = 3\n",
        "    dataset.loc[(dataset['Age'] > 27) & (dataset['Age'] <= 33), 'Age'] = 4\n",
        "    dataset.loc[(dataset['Age'] > 33) & (dataset['Age'] <= 40), 'Age'] = 5\n",
        "    dataset.loc[(dataset['Age'] > 40) & (dataset['Age'] <= 66), 'Age'] = 6\n",
        "    dataset.loc[ dataset['Age'] > 66, 'Age'] = 6\n",
        "\n",
        "# let's see how it's distributed train_df['Age'].value_counts()"
      ],
      "metadata": {
        "id": "pP7wq2aGasAB"
      },
      "execution_count": null,
      "outputs": []
    },
    {
      "cell_type": "markdown",
      "source": [
        "**Fare:**\n",
        "For the ‘Fare’ feature, we need to do the same as with the ‘Age’ feature. But it isn’t that easy, because if we cut the range of the fare values into a few equally big categories, 80% of the values would fall into the first category. Fortunately, we can use sklearn “qcut()” function, that we can use to see, how we can form the categories."
      ],
      "metadata": {
        "id": "0zcYAr0Ian9T"
      }
    },
    {
      "cell_type": "code",
      "source": [
        "train_df.head(10)"
      ],
      "metadata": {
        "colab": {
          "base_uri": "https://localhost:8080/",
          "height": 363
        },
        "id": "UpGehL3XaxUu",
        "outputId": "3c20b3b2-056b-437e-9e19-360ea43e6bf1"
      },
      "execution_count": null,
      "outputs": [
        {
          "output_type": "execute_result",
          "data": {
            "text/plain": [
              "   Survived  Pclass  Sex  Age  SibSp  Parch  Fare  Embarked  relatives  \\\n",
              "0         0       3    0    2      1      0     7         0          1   \n",
              "1         1       1    1    5      1      0    71         1          1   \n",
              "2         1       3    1    3      0      0     7         0          0   \n",
              "3         1       1    1    5      1      0    53         0          1   \n",
              "4         0       3    0    5      0      0     8         0          0   \n",
              "5         0       3    0    3      0      0     8         2          0   \n",
              "6         0       1    0    6      0      0    51         0          0   \n",
              "7         0       3    0    0      3      1    21         0          4   \n",
              "8         1       3    1    3      0      2    11         0          2   \n",
              "9         1       2    1    1      1      0    30         1          1   \n",
              "\n",
              "   not_alone  Deck  Title  \n",
              "0          0     8      1  \n",
              "1          0     3      3  \n",
              "2          1     8      2  \n",
              "3          0     3      3  \n",
              "4          1     8      1  \n",
              "5          1     8      1  \n",
              "6          1     5      1  \n",
              "7          0     8      4  \n",
              "8          0     8      3  \n",
              "9          0     8      3  "
            ],
            "text/html": [
              "\n",
              "  <div id=\"df-95ef3d9b-0376-44cc-a22f-3bef7fbc43a1\">\n",
              "    <div class=\"colab-df-container\">\n",
              "      <div>\n",
              "<style scoped>\n",
              "    .dataframe tbody tr th:only-of-type {\n",
              "        vertical-align: middle;\n",
              "    }\n",
              "\n",
              "    .dataframe tbody tr th {\n",
              "        vertical-align: top;\n",
              "    }\n",
              "\n",
              "    .dataframe thead th {\n",
              "        text-align: right;\n",
              "    }\n",
              "</style>\n",
              "<table border=\"1\" class=\"dataframe\">\n",
              "  <thead>\n",
              "    <tr style=\"text-align: right;\">\n",
              "      <th></th>\n",
              "      <th>Survived</th>\n",
              "      <th>Pclass</th>\n",
              "      <th>Sex</th>\n",
              "      <th>Age</th>\n",
              "      <th>SibSp</th>\n",
              "      <th>Parch</th>\n",
              "      <th>Fare</th>\n",
              "      <th>Embarked</th>\n",
              "      <th>relatives</th>\n",
              "      <th>not_alone</th>\n",
              "      <th>Deck</th>\n",
              "      <th>Title</th>\n",
              "    </tr>\n",
              "  </thead>\n",
              "  <tbody>\n",
              "    <tr>\n",
              "      <th>0</th>\n",
              "      <td>0</td>\n",
              "      <td>3</td>\n",
              "      <td>0</td>\n",
              "      <td>2</td>\n",
              "      <td>1</td>\n",
              "      <td>0</td>\n",
              "      <td>7</td>\n",
              "      <td>0</td>\n",
              "      <td>1</td>\n",
              "      <td>0</td>\n",
              "      <td>8</td>\n",
              "      <td>1</td>\n",
              "    </tr>\n",
              "    <tr>\n",
              "      <th>1</th>\n",
              "      <td>1</td>\n",
              "      <td>1</td>\n",
              "      <td>1</td>\n",
              "      <td>5</td>\n",
              "      <td>1</td>\n",
              "      <td>0</td>\n",
              "      <td>71</td>\n",
              "      <td>1</td>\n",
              "      <td>1</td>\n",
              "      <td>0</td>\n",
              "      <td>3</td>\n",
              "      <td>3</td>\n",
              "    </tr>\n",
              "    <tr>\n",
              "      <th>2</th>\n",
              "      <td>1</td>\n",
              "      <td>3</td>\n",
              "      <td>1</td>\n",
              "      <td>3</td>\n",
              "      <td>0</td>\n",
              "      <td>0</td>\n",
              "      <td>7</td>\n",
              "      <td>0</td>\n",
              "      <td>0</td>\n",
              "      <td>1</td>\n",
              "      <td>8</td>\n",
              "      <td>2</td>\n",
              "    </tr>\n",
              "    <tr>\n",
              "      <th>3</th>\n",
              "      <td>1</td>\n",
              "      <td>1</td>\n",
              "      <td>1</td>\n",
              "      <td>5</td>\n",
              "      <td>1</td>\n",
              "      <td>0</td>\n",
              "      <td>53</td>\n",
              "      <td>0</td>\n",
              "      <td>1</td>\n",
              "      <td>0</td>\n",
              "      <td>3</td>\n",
              "      <td>3</td>\n",
              "    </tr>\n",
              "    <tr>\n",
              "      <th>4</th>\n",
              "      <td>0</td>\n",
              "      <td>3</td>\n",
              "      <td>0</td>\n",
              "      <td>5</td>\n",
              "      <td>0</td>\n",
              "      <td>0</td>\n",
              "      <td>8</td>\n",
              "      <td>0</td>\n",
              "      <td>0</td>\n",
              "      <td>1</td>\n",
              "      <td>8</td>\n",
              "      <td>1</td>\n",
              "    </tr>\n",
              "    <tr>\n",
              "      <th>5</th>\n",
              "      <td>0</td>\n",
              "      <td>3</td>\n",
              "      <td>0</td>\n",
              "      <td>3</td>\n",
              "      <td>0</td>\n",
              "      <td>0</td>\n",
              "      <td>8</td>\n",
              "      <td>2</td>\n",
              "      <td>0</td>\n",
              "      <td>1</td>\n",
              "      <td>8</td>\n",
              "      <td>1</td>\n",
              "    </tr>\n",
              "    <tr>\n",
              "      <th>6</th>\n",
              "      <td>0</td>\n",
              "      <td>1</td>\n",
              "      <td>0</td>\n",
              "      <td>6</td>\n",
              "      <td>0</td>\n",
              "      <td>0</td>\n",
              "      <td>51</td>\n",
              "      <td>0</td>\n",
              "      <td>0</td>\n",
              "      <td>1</td>\n",
              "      <td>5</td>\n",
              "      <td>1</td>\n",
              "    </tr>\n",
              "    <tr>\n",
              "      <th>7</th>\n",
              "      <td>0</td>\n",
              "      <td>3</td>\n",
              "      <td>0</td>\n",
              "      <td>0</td>\n",
              "      <td>3</td>\n",
              "      <td>1</td>\n",
              "      <td>21</td>\n",
              "      <td>0</td>\n",
              "      <td>4</td>\n",
              "      <td>0</td>\n",
              "      <td>8</td>\n",
              "      <td>4</td>\n",
              "    </tr>\n",
              "    <tr>\n",
              "      <th>8</th>\n",
              "      <td>1</td>\n",
              "      <td>3</td>\n",
              "      <td>1</td>\n",
              "      <td>3</td>\n",
              "      <td>0</td>\n",
              "      <td>2</td>\n",
              "      <td>11</td>\n",
              "      <td>0</td>\n",
              "      <td>2</td>\n",
              "      <td>0</td>\n",
              "      <td>8</td>\n",
              "      <td>3</td>\n",
              "    </tr>\n",
              "    <tr>\n",
              "      <th>9</th>\n",
              "      <td>1</td>\n",
              "      <td>2</td>\n",
              "      <td>1</td>\n",
              "      <td>1</td>\n",
              "      <td>1</td>\n",
              "      <td>0</td>\n",
              "      <td>30</td>\n",
              "      <td>1</td>\n",
              "      <td>1</td>\n",
              "      <td>0</td>\n",
              "      <td>8</td>\n",
              "      <td>3</td>\n",
              "    </tr>\n",
              "  </tbody>\n",
              "</table>\n",
              "</div>\n",
              "      <button class=\"colab-df-convert\" onclick=\"convertToInteractive('df-95ef3d9b-0376-44cc-a22f-3bef7fbc43a1')\"\n",
              "              title=\"Convert this dataframe to an interactive table.\"\n",
              "              style=\"display:none;\">\n",
              "        \n",
              "  <svg xmlns=\"http://www.w3.org/2000/svg\" height=\"24px\"viewBox=\"0 0 24 24\"\n",
              "       width=\"24px\">\n",
              "    <path d=\"M0 0h24v24H0V0z\" fill=\"none\"/>\n",
              "    <path d=\"M18.56 5.44l.94 2.06.94-2.06 2.06-.94-2.06-.94-.94-2.06-.94 2.06-2.06.94zm-11 1L8.5 8.5l.94-2.06 2.06-.94-2.06-.94L8.5 2.5l-.94 2.06-2.06.94zm10 10l.94 2.06.94-2.06 2.06-.94-2.06-.94-.94-2.06-.94 2.06-2.06.94z\"/><path d=\"M17.41 7.96l-1.37-1.37c-.4-.4-.92-.59-1.43-.59-.52 0-1.04.2-1.43.59L10.3 9.45l-7.72 7.72c-.78.78-.78 2.05 0 2.83L4 21.41c.39.39.9.59 1.41.59.51 0 1.02-.2 1.41-.59l7.78-7.78 2.81-2.81c.8-.78.8-2.07 0-2.86zM5.41 20L4 18.59l7.72-7.72 1.47 1.35L5.41 20z\"/>\n",
              "  </svg>\n",
              "      </button>\n",
              "      \n",
              "  <style>\n",
              "    .colab-df-container {\n",
              "      display:flex;\n",
              "      flex-wrap:wrap;\n",
              "      gap: 12px;\n",
              "    }\n",
              "\n",
              "    .colab-df-convert {\n",
              "      background-color: #E8F0FE;\n",
              "      border: none;\n",
              "      border-radius: 50%;\n",
              "      cursor: pointer;\n",
              "      display: none;\n",
              "      fill: #1967D2;\n",
              "      height: 32px;\n",
              "      padding: 0 0 0 0;\n",
              "      width: 32px;\n",
              "    }\n",
              "\n",
              "    .colab-df-convert:hover {\n",
              "      background-color: #E2EBFA;\n",
              "      box-shadow: 0px 1px 2px rgba(60, 64, 67, 0.3), 0px 1px 3px 1px rgba(60, 64, 67, 0.15);\n",
              "      fill: #174EA6;\n",
              "    }\n",
              "\n",
              "    [theme=dark] .colab-df-convert {\n",
              "      background-color: #3B4455;\n",
              "      fill: #D2E3FC;\n",
              "    }\n",
              "\n",
              "    [theme=dark] .colab-df-convert:hover {\n",
              "      background-color: #434B5C;\n",
              "      box-shadow: 0px 1px 3px 1px rgba(0, 0, 0, 0.15);\n",
              "      filter: drop-shadow(0px 1px 2px rgba(0, 0, 0, 0.3));\n",
              "      fill: #FFFFFF;\n",
              "    }\n",
              "  </style>\n",
              "\n",
              "      <script>\n",
              "        const buttonEl =\n",
              "          document.querySelector('#df-95ef3d9b-0376-44cc-a22f-3bef7fbc43a1 button.colab-df-convert');\n",
              "        buttonEl.style.display =\n",
              "          google.colab.kernel.accessAllowed ? 'block' : 'none';\n",
              "\n",
              "        async function convertToInteractive(key) {\n",
              "          const element = document.querySelector('#df-95ef3d9b-0376-44cc-a22f-3bef7fbc43a1');\n",
              "          const dataTable =\n",
              "            await google.colab.kernel.invokeFunction('convertToInteractive',\n",
              "                                                     [key], {});\n",
              "          if (!dataTable) return;\n",
              "\n",
              "          const docLinkHtml = 'Like what you see? Visit the ' +\n",
              "            '<a target=\"_blank\" href=https://colab.research.google.com/notebooks/data_table.ipynb>data table notebook</a>'\n",
              "            + ' to learn more about interactive tables.';\n",
              "          element.innerHTML = '';\n",
              "          dataTable['output_type'] = 'display_data';\n",
              "          await google.colab.output.renderOutput(dataTable, element);\n",
              "          const docLink = document.createElement('div');\n",
              "          docLink.innerHTML = docLinkHtml;\n",
              "          element.appendChild(docLink);\n",
              "        }\n",
              "      </script>\n",
              "    </div>\n",
              "  </div>\n",
              "  "
            ]
          },
          "metadata": {},
          "execution_count": 35
        }
      ]
    },
    {
      "cell_type": "code",
      "source": [
        "data = [train_df, test_df]\n",
        "\n",
        "for dataset in data:\n",
        "    dataset.loc[ dataset['Fare'] <= 7.91, 'Fare'] = 0\n",
        "    dataset.loc[(dataset['Fare'] > 7.91) & (dataset['Fare'] <= 14.454), 'Fare'] = 1\n",
        "    dataset.loc[(dataset['Fare'] > 14.454) & (dataset['Fare'] <= 31), 'Fare']   = 2\n",
        "    dataset.loc[(dataset['Fare'] > 31) & (dataset['Fare'] <= 99), 'Fare']   = 3\n",
        "    dataset.loc[(dataset['Fare'] > 99) & (dataset['Fare'] <= 250), 'Fare']   = 4\n",
        "    dataset.loc[ dataset['Fare'] > 250, 'Fare'] = 5\n",
        "    dataset['Fare'] = dataset['Fare'].astype(int)"
      ],
      "metadata": {
        "id": "ccXF6HZIa0gc"
      },
      "execution_count": null,
      "outputs": []
    },
    {
      "cell_type": "markdown",
      "source": [
        "# **Creating new Features**"
      ],
      "metadata": {
        "id": "P4uwQNUna5Bi"
      }
    },
    {
      "cell_type": "markdown",
      "source": [
        "I will add two new features to the dataset, that I compute out of other features.\n",
        "\n",
        "**1. Age times Class**"
      ],
      "metadata": {
        "id": "_60F4UiKa7bb"
      }
    },
    {
      "cell_type": "code",
      "source": [
        "data = [train_df, test_df]\n",
        "for dataset in data:\n",
        "    dataset['Age_Class']= dataset['Age']* dataset['Pclass']"
      ],
      "metadata": {
        "id": "3Qj5QPS1bR0W"
      },
      "execution_count": null,
      "outputs": []
    },
    {
      "cell_type": "markdown",
      "source": [
        "**2. Fare per Person**"
      ],
      "metadata": {
        "id": "Jf1C1_ncbUfQ"
      }
    },
    {
      "cell_type": "code",
      "source": [
        "for dataset in data:\n",
        "    dataset['Fare_Per_Person'] = dataset['Fare']/(dataset['relatives']+1)\n",
        "    dataset['Fare_Per_Person'] = dataset['Fare_Per_Person'].astype(int)\n",
        "\n",
        "    # Let's take a last look at the training set, before we start training the models.\n",
        "train_df.head(10)"
      ],
      "metadata": {
        "colab": {
          "base_uri": "https://localhost:8080/",
          "height": 363
        },
        "id": "mcxMUR0NbVN6",
        "outputId": "9f89cf6c-0987-4184-b327-0a5d0357b790"
      },
      "execution_count": null,
      "outputs": [
        {
          "output_type": "execute_result",
          "data": {
            "text/plain": [
              "   Survived  Pclass  Sex  Age  SibSp  Parch  Fare  Embarked  relatives  \\\n",
              "0         0       3    0    2      1      0     0         0          1   \n",
              "1         1       1    1    5      1      0     3         1          1   \n",
              "2         1       3    1    3      0      0     0         0          0   \n",
              "3         1       1    1    5      1      0     3         0          1   \n",
              "4         0       3    0    5      0      0     1         0          0   \n",
              "5         0       3    0    3      0      0     1         2          0   \n",
              "6         0       1    0    6      0      0     3         0          0   \n",
              "7         0       3    0    0      3      1     2         0          4   \n",
              "8         1       3    1    3      0      2     1         0          2   \n",
              "9         1       2    1    1      1      0     2         1          1   \n",
              "\n",
              "   not_alone  Deck  Title  Age_Class  Fare_Per_Person  \n",
              "0          0     8      1          6                0  \n",
              "1          0     3      3          5                1  \n",
              "2          1     8      2          9                0  \n",
              "3          0     3      3          5                1  \n",
              "4          1     8      1         15                1  \n",
              "5          1     8      1          9                1  \n",
              "6          1     5      1          6                3  \n",
              "7          0     8      4          0                0  \n",
              "8          0     8      3          9                0  \n",
              "9          0     8      3          2                1  "
            ],
            "text/html": [
              "\n",
              "  <div id=\"df-c3983470-77a8-40a2-9224-c7b018e3e353\">\n",
              "    <div class=\"colab-df-container\">\n",
              "      <div>\n",
              "<style scoped>\n",
              "    .dataframe tbody tr th:only-of-type {\n",
              "        vertical-align: middle;\n",
              "    }\n",
              "\n",
              "    .dataframe tbody tr th {\n",
              "        vertical-align: top;\n",
              "    }\n",
              "\n",
              "    .dataframe thead th {\n",
              "        text-align: right;\n",
              "    }\n",
              "</style>\n",
              "<table border=\"1\" class=\"dataframe\">\n",
              "  <thead>\n",
              "    <tr style=\"text-align: right;\">\n",
              "      <th></th>\n",
              "      <th>Survived</th>\n",
              "      <th>Pclass</th>\n",
              "      <th>Sex</th>\n",
              "      <th>Age</th>\n",
              "      <th>SibSp</th>\n",
              "      <th>Parch</th>\n",
              "      <th>Fare</th>\n",
              "      <th>Embarked</th>\n",
              "      <th>relatives</th>\n",
              "      <th>not_alone</th>\n",
              "      <th>Deck</th>\n",
              "      <th>Title</th>\n",
              "      <th>Age_Class</th>\n",
              "      <th>Fare_Per_Person</th>\n",
              "    </tr>\n",
              "  </thead>\n",
              "  <tbody>\n",
              "    <tr>\n",
              "      <th>0</th>\n",
              "      <td>0</td>\n",
              "      <td>3</td>\n",
              "      <td>0</td>\n",
              "      <td>2</td>\n",
              "      <td>1</td>\n",
              "      <td>0</td>\n",
              "      <td>0</td>\n",
              "      <td>0</td>\n",
              "      <td>1</td>\n",
              "      <td>0</td>\n",
              "      <td>8</td>\n",
              "      <td>1</td>\n",
              "      <td>6</td>\n",
              "      <td>0</td>\n",
              "    </tr>\n",
              "    <tr>\n",
              "      <th>1</th>\n",
              "      <td>1</td>\n",
              "      <td>1</td>\n",
              "      <td>1</td>\n",
              "      <td>5</td>\n",
              "      <td>1</td>\n",
              "      <td>0</td>\n",
              "      <td>3</td>\n",
              "      <td>1</td>\n",
              "      <td>1</td>\n",
              "      <td>0</td>\n",
              "      <td>3</td>\n",
              "      <td>3</td>\n",
              "      <td>5</td>\n",
              "      <td>1</td>\n",
              "    </tr>\n",
              "    <tr>\n",
              "      <th>2</th>\n",
              "      <td>1</td>\n",
              "      <td>3</td>\n",
              "      <td>1</td>\n",
              "      <td>3</td>\n",
              "      <td>0</td>\n",
              "      <td>0</td>\n",
              "      <td>0</td>\n",
              "      <td>0</td>\n",
              "      <td>0</td>\n",
              "      <td>1</td>\n",
              "      <td>8</td>\n",
              "      <td>2</td>\n",
              "      <td>9</td>\n",
              "      <td>0</td>\n",
              "    </tr>\n",
              "    <tr>\n",
              "      <th>3</th>\n",
              "      <td>1</td>\n",
              "      <td>1</td>\n",
              "      <td>1</td>\n",
              "      <td>5</td>\n",
              "      <td>1</td>\n",
              "      <td>0</td>\n",
              "      <td>3</td>\n",
              "      <td>0</td>\n",
              "      <td>1</td>\n",
              "      <td>0</td>\n",
              "      <td>3</td>\n",
              "      <td>3</td>\n",
              "      <td>5</td>\n",
              "      <td>1</td>\n",
              "    </tr>\n",
              "    <tr>\n",
              "      <th>4</th>\n",
              "      <td>0</td>\n",
              "      <td>3</td>\n",
              "      <td>0</td>\n",
              "      <td>5</td>\n",
              "      <td>0</td>\n",
              "      <td>0</td>\n",
              "      <td>1</td>\n",
              "      <td>0</td>\n",
              "      <td>0</td>\n",
              "      <td>1</td>\n",
              "      <td>8</td>\n",
              "      <td>1</td>\n",
              "      <td>15</td>\n",
              "      <td>1</td>\n",
              "    </tr>\n",
              "    <tr>\n",
              "      <th>5</th>\n",
              "      <td>0</td>\n",
              "      <td>3</td>\n",
              "      <td>0</td>\n",
              "      <td>3</td>\n",
              "      <td>0</td>\n",
              "      <td>0</td>\n",
              "      <td>1</td>\n",
              "      <td>2</td>\n",
              "      <td>0</td>\n",
              "      <td>1</td>\n",
              "      <td>8</td>\n",
              "      <td>1</td>\n",
              "      <td>9</td>\n",
              "      <td>1</td>\n",
              "    </tr>\n",
              "    <tr>\n",
              "      <th>6</th>\n",
              "      <td>0</td>\n",
              "      <td>1</td>\n",
              "      <td>0</td>\n",
              "      <td>6</td>\n",
              "      <td>0</td>\n",
              "      <td>0</td>\n",
              "      <td>3</td>\n",
              "      <td>0</td>\n",
              "      <td>0</td>\n",
              "      <td>1</td>\n",
              "      <td>5</td>\n",
              "      <td>1</td>\n",
              "      <td>6</td>\n",
              "      <td>3</td>\n",
              "    </tr>\n",
              "    <tr>\n",
              "      <th>7</th>\n",
              "      <td>0</td>\n",
              "      <td>3</td>\n",
              "      <td>0</td>\n",
              "      <td>0</td>\n",
              "      <td>3</td>\n",
              "      <td>1</td>\n",
              "      <td>2</td>\n",
              "      <td>0</td>\n",
              "      <td>4</td>\n",
              "      <td>0</td>\n",
              "      <td>8</td>\n",
              "      <td>4</td>\n",
              "      <td>0</td>\n",
              "      <td>0</td>\n",
              "    </tr>\n",
              "    <tr>\n",
              "      <th>8</th>\n",
              "      <td>1</td>\n",
              "      <td>3</td>\n",
              "      <td>1</td>\n",
              "      <td>3</td>\n",
              "      <td>0</td>\n",
              "      <td>2</td>\n",
              "      <td>1</td>\n",
              "      <td>0</td>\n",
              "      <td>2</td>\n",
              "      <td>0</td>\n",
              "      <td>8</td>\n",
              "      <td>3</td>\n",
              "      <td>9</td>\n",
              "      <td>0</td>\n",
              "    </tr>\n",
              "    <tr>\n",
              "      <th>9</th>\n",
              "      <td>1</td>\n",
              "      <td>2</td>\n",
              "      <td>1</td>\n",
              "      <td>1</td>\n",
              "      <td>1</td>\n",
              "      <td>0</td>\n",
              "      <td>2</td>\n",
              "      <td>1</td>\n",
              "      <td>1</td>\n",
              "      <td>0</td>\n",
              "      <td>8</td>\n",
              "      <td>3</td>\n",
              "      <td>2</td>\n",
              "      <td>1</td>\n",
              "    </tr>\n",
              "  </tbody>\n",
              "</table>\n",
              "</div>\n",
              "      <button class=\"colab-df-convert\" onclick=\"convertToInteractive('df-c3983470-77a8-40a2-9224-c7b018e3e353')\"\n",
              "              title=\"Convert this dataframe to an interactive table.\"\n",
              "              style=\"display:none;\">\n",
              "        \n",
              "  <svg xmlns=\"http://www.w3.org/2000/svg\" height=\"24px\"viewBox=\"0 0 24 24\"\n",
              "       width=\"24px\">\n",
              "    <path d=\"M0 0h24v24H0V0z\" fill=\"none\"/>\n",
              "    <path d=\"M18.56 5.44l.94 2.06.94-2.06 2.06-.94-2.06-.94-.94-2.06-.94 2.06-2.06.94zm-11 1L8.5 8.5l.94-2.06 2.06-.94-2.06-.94L8.5 2.5l-.94 2.06-2.06.94zm10 10l.94 2.06.94-2.06 2.06-.94-2.06-.94-.94-2.06-.94 2.06-2.06.94z\"/><path d=\"M17.41 7.96l-1.37-1.37c-.4-.4-.92-.59-1.43-.59-.52 0-1.04.2-1.43.59L10.3 9.45l-7.72 7.72c-.78.78-.78 2.05 0 2.83L4 21.41c.39.39.9.59 1.41.59.51 0 1.02-.2 1.41-.59l7.78-7.78 2.81-2.81c.8-.78.8-2.07 0-2.86zM5.41 20L4 18.59l7.72-7.72 1.47 1.35L5.41 20z\"/>\n",
              "  </svg>\n",
              "      </button>\n",
              "      \n",
              "  <style>\n",
              "    .colab-df-container {\n",
              "      display:flex;\n",
              "      flex-wrap:wrap;\n",
              "      gap: 12px;\n",
              "    }\n",
              "\n",
              "    .colab-df-convert {\n",
              "      background-color: #E8F0FE;\n",
              "      border: none;\n",
              "      border-radius: 50%;\n",
              "      cursor: pointer;\n",
              "      display: none;\n",
              "      fill: #1967D2;\n",
              "      height: 32px;\n",
              "      padding: 0 0 0 0;\n",
              "      width: 32px;\n",
              "    }\n",
              "\n",
              "    .colab-df-convert:hover {\n",
              "      background-color: #E2EBFA;\n",
              "      box-shadow: 0px 1px 2px rgba(60, 64, 67, 0.3), 0px 1px 3px 1px rgba(60, 64, 67, 0.15);\n",
              "      fill: #174EA6;\n",
              "    }\n",
              "\n",
              "    [theme=dark] .colab-df-convert {\n",
              "      background-color: #3B4455;\n",
              "      fill: #D2E3FC;\n",
              "    }\n",
              "\n",
              "    [theme=dark] .colab-df-convert:hover {\n",
              "      background-color: #434B5C;\n",
              "      box-shadow: 0px 1px 3px 1px rgba(0, 0, 0, 0.15);\n",
              "      filter: drop-shadow(0px 1px 2px rgba(0, 0, 0, 0.3));\n",
              "      fill: #FFFFFF;\n",
              "    }\n",
              "  </style>\n",
              "\n",
              "      <script>\n",
              "        const buttonEl =\n",
              "          document.querySelector('#df-c3983470-77a8-40a2-9224-c7b018e3e353 button.colab-df-convert');\n",
              "        buttonEl.style.display =\n",
              "          google.colab.kernel.accessAllowed ? 'block' : 'none';\n",
              "\n",
              "        async function convertToInteractive(key) {\n",
              "          const element = document.querySelector('#df-c3983470-77a8-40a2-9224-c7b018e3e353');\n",
              "          const dataTable =\n",
              "            await google.colab.kernel.invokeFunction('convertToInteractive',\n",
              "                                                     [key], {});\n",
              "          if (!dataTable) return;\n",
              "\n",
              "          const docLinkHtml = 'Like what you see? Visit the ' +\n",
              "            '<a target=\"_blank\" href=https://colab.research.google.com/notebooks/data_table.ipynb>data table notebook</a>'\n",
              "            + ' to learn more about interactive tables.';\n",
              "          element.innerHTML = '';\n",
              "          dataTable['output_type'] = 'display_data';\n",
              "          await google.colab.output.renderOutput(dataTable, element);\n",
              "          const docLink = document.createElement('div');\n",
              "          docLink.innerHTML = docLinkHtml;\n",
              "          element.appendChild(docLink);\n",
              "        }\n",
              "      </script>\n",
              "    </div>\n",
              "  </div>\n",
              "  "
            ]
          },
          "metadata": {},
          "execution_count": 40
        }
      ]
    },
    {
      "cell_type": "markdown",
      "source": [
        "# **Building Machine Learning Models**"
      ],
      "metadata": {
        "id": "izmyQKT9bb_L"
      }
    },
    {
      "cell_type": "markdown",
      "source": [
        "Now we will train several Machine Learning models and compare their results. Note that because the dataset does not provide labels for their testing-set, we need to use the predictions on the training set to compare the algorithms with each other. Later on, we will use cross validation."
      ],
      "metadata": {
        "id": "-QFANQAmbfPg"
      }
    },
    {
      "cell_type": "code",
      "source": [
        "X_train = train_df.drop(\"Survived\", axis=1)\n",
        "Y_train = train_df[\"Survived\"]\n",
        "X_test  = test_df.drop(\"PassengerId\", axis=1).copy()"
      ],
      "metadata": {
        "id": "b0JY9CCWbf5c"
      },
      "execution_count": null,
      "outputs": []
    },
    {
      "cell_type": "markdown",
      "source": [
        "**Stochastic Gradient Descent (SGD):**"
      ],
      "metadata": {
        "id": "lKv9fLD1bqYq"
      }
    },
    {
      "cell_type": "code",
      "source": [
        "sgd = linear_model.SGDClassifier(max_iter=5, tol=None)\n",
        "sgd.fit(X_train, Y_train)\n",
        "Y_pred = sgd.predict(X_test)\n",
        "\n",
        "sgd.score(X_train, Y_train)\n",
        "\n",
        "acc_sgd = round(sgd.score(X_train, Y_train) * 100, 2)"
      ],
      "metadata": {
        "id": "TrwZIgCybrNg"
      },
      "execution_count": null,
      "outputs": []
    },
    {
      "cell_type": "markdown",
      "source": [
        "**Random Forest:**"
      ],
      "metadata": {
        "id": "OFsfxiprbv4P"
      }
    },
    {
      "cell_type": "code",
      "source": [
        "random_forest = RandomForestClassifier(n_estimators=100)\n",
        "random_forest.fit(X_train, Y_train)\n",
        "\n",
        "Y_prediction = random_forest.predict(X_test)\n",
        "\n",
        "random_forest.score(X_train, Y_train)\n",
        "acc_random_forest = round(random_forest.score(X_train, Y_train) * 100, 2)"
      ],
      "metadata": {
        "id": "D67aO8tgbwo0"
      },
      "execution_count": null,
      "outputs": []
    },
    {
      "cell_type": "markdown",
      "source": [
        "**Logistic Regression:**"
      ],
      "metadata": {
        "id": "NVtSr9W0bzrE"
      }
    },
    {
      "cell_type": "code",
      "source": [
        "logreg = LogisticRegression()\n",
        "logreg.fit(X_train, Y_train)\n",
        "\n",
        "Y_pred = logreg.predict(X_test)\n",
        "\n",
        "acc_log = round(logreg.score(X_train, Y_train) * 100, 2)"
      ],
      "metadata": {
        "colab": {
          "base_uri": "https://localhost:8080/"
        },
        "id": "oR3j_T2Lb0WB",
        "outputId": "47ea2bdb-3a4a-4da2-8217-ca48eca10dd0"
      },
      "execution_count": null,
      "outputs": [
        {
          "output_type": "stream",
          "name": "stderr",
          "text": [
            "/usr/local/lib/python3.10/dist-packages/sklearn/linear_model/_logistic.py:458: ConvergenceWarning: lbfgs failed to converge (status=1):\n",
            "STOP: TOTAL NO. of ITERATIONS REACHED LIMIT.\n",
            "\n",
            "Increase the number of iterations (max_iter) or scale the data as shown in:\n",
            "    https://scikit-learn.org/stable/modules/preprocessing.html\n",
            "Please also refer to the documentation for alternative solver options:\n",
            "    https://scikit-learn.org/stable/modules/linear_model.html#logistic-regression\n",
            "  n_iter_i = _check_optimize_result(\n"
          ]
        }
      ]
    },
    {
      "cell_type": "markdown",
      "source": [
        "**K Nearest Neighbor:**"
      ],
      "metadata": {
        "id": "dgxseUqWcLKk"
      }
    },
    {
      "cell_type": "code",
      "source": [
        "# KNN\n",
        "knn = KNeighborsClassifier(n_neighbors = 3)\n",
        "knn.fit(X_train, Y_train)\n",
        "Y_pred = knn.predict(X_test)\n",
        "acc_knn = round(knn.score(X_train, Y_train) * 100, 2)"
      ],
      "metadata": {
        "id": "DtTkus6ccKYu"
      },
      "execution_count": null,
      "outputs": []
    },
    {
      "cell_type": "markdown",
      "source": [
        "**Gaussian Naive Bayes:**"
      ],
      "metadata": {
        "id": "L4mb-9ewcdAa"
      }
    },
    {
      "cell_type": "code",
      "source": [
        "gaussian = GaussianNB()\n",
        "gaussian.fit(X_train, Y_train)\n",
        "Y_pred = gaussian.predict(X_test)\n",
        "acc_gaussian = round(gaussian.score(X_train, Y_train) * 100, 2)"
      ],
      "metadata": {
        "id": "iJBFwclqcdtJ"
      },
      "execution_count": null,
      "outputs": []
    },
    {
      "cell_type": "markdown",
      "source": [
        "**Perceptron:**"
      ],
      "metadata": {
        "id": "X_UwfDFwckV2"
      }
    },
    {
      "cell_type": "code",
      "source": [
        "perceptron = Perceptron(max_iter=5)\n",
        "perceptron.fit(X_train, Y_train)\n",
        "\n",
        "Y_pred = perceptron.predict(X_test)\n",
        "\n",
        "acc_perceptron = round(perceptron.score(X_train, Y_train) * 100, 2)"
      ],
      "metadata": {
        "colab": {
          "base_uri": "https://localhost:8080/"
        },
        "id": "eoPNY3_uclJS",
        "outputId": "54a58009-2c42-4a7e-9d14-1cf9038da5ec"
      },
      "execution_count": null,
      "outputs": [
        {
          "output_type": "stream",
          "name": "stderr",
          "text": [
            "/usr/local/lib/python3.10/dist-packages/sklearn/linear_model/_stochastic_gradient.py:702: ConvergenceWarning: Maximum number of iteration reached before convergence. Consider increasing max_iter to improve the fit.\n",
            "  warnings.warn(\n"
          ]
        }
      ]
    },
    {
      "cell_type": "markdown",
      "source": [
        "**Linear Support Vector Machine:**"
      ],
      "metadata": {
        "id": "8sGG73OgcnzU"
      }
    },
    {
      "cell_type": "code",
      "source": [
        "linear_svc = LinearSVC()\n",
        "linear_svc.fit(X_train, Y_train)\n",
        "\n",
        "Y_pred = linear_svc.predict(X_test)\n",
        "\n",
        "acc_linear_svc = round(linear_svc.score(X_train, Y_train) * 100, 2)"
      ],
      "metadata": {
        "colab": {
          "base_uri": "https://localhost:8080/"
        },
        "id": "GV2K0GYnco8K",
        "outputId": "caf2d0a0-09ee-4299-d4c0-8160a8814fbb"
      },
      "execution_count": null,
      "outputs": [
        {
          "output_type": "stream",
          "name": "stderr",
          "text": [
            "/usr/local/lib/python3.10/dist-packages/sklearn/svm/_base.py:1244: ConvergenceWarning: Liblinear failed to converge, increase the number of iterations.\n",
            "  warnings.warn(\n"
          ]
        }
      ]
    },
    {
      "cell_type": "markdown",
      "source": [
        "**Decision Tree**"
      ],
      "metadata": {
        "id": "Mm8Wj7bvctOd"
      }
    },
    {
      "cell_type": "code",
      "source": [
        "decision_tree = DecisionTreeClassifier()\n",
        "decision_tree.fit(X_train, Y_train)\n",
        "Y_pred = decision_tree.predict(X_test)\n",
        "acc_decision_tree = round(decision_tree.score(X_train, Y_train) * 100, 2)"
      ],
      "metadata": {
        "id": "AidvctlGcvA9"
      },
      "execution_count": null,
      "outputs": []
    },
    {
      "cell_type": "markdown",
      "source": [
        "# **Which is the best Model ?**"
      ],
      "metadata": {
        "id": "DMc_u5g0c2wn"
      }
    },
    {
      "cell_type": "code",
      "source": [
        "results = pd.DataFrame({\n",
        "    'Model': ['Support Vector Machines', 'KNN', 'Logistic Regression',\n",
        "              'Random Forest', 'Naive Bayes', 'Perceptron',\n",
        "              'Stochastic Gradient Decent',\n",
        "              'Decision Tree'],\n",
        "    'Score': [acc_linear_svc, acc_knn, acc_log,\n",
        "              acc_random_forest, acc_gaussian, acc_perceptron,\n",
        "              acc_sgd, acc_decision_tree]})\n",
        "result_df = results.sort_values(by='Score', ascending=False)\n",
        "result_df = result_df.set_index('Score')\n",
        "result_df.head(9)"
      ],
      "metadata": {
        "colab": {
          "base_uri": "https://localhost:8080/",
          "height": 332
        },
        "id": "aMtZIkRDc4oQ",
        "outputId": "bf138f66-51fa-4b9c-f2db-5d8f417da044"
      },
      "execution_count": null,
      "outputs": [
        {
          "output_type": "execute_result",
          "data": {
            "text/plain": [
              "                            Model\n",
              "Score                            \n",
              "92.82               Random Forest\n",
              "92.82               Decision Tree\n",
              "86.53                         KNN\n",
              "81.37         Logistic Regression\n",
              "81.26     Support Vector Machines\n",
              "78.11                 Naive Bayes\n",
              "77.44                  Perceptron\n",
              "76.32  Stochastic Gradient Decent"
            ],
            "text/html": [
              "\n",
              "  <div id=\"df-c61a1c5c-fdf4-429f-977a-e9ec9815eaac\">\n",
              "    <div class=\"colab-df-container\">\n",
              "      <div>\n",
              "<style scoped>\n",
              "    .dataframe tbody tr th:only-of-type {\n",
              "        vertical-align: middle;\n",
              "    }\n",
              "\n",
              "    .dataframe tbody tr th {\n",
              "        vertical-align: top;\n",
              "    }\n",
              "\n",
              "    .dataframe thead th {\n",
              "        text-align: right;\n",
              "    }\n",
              "</style>\n",
              "<table border=\"1\" class=\"dataframe\">\n",
              "  <thead>\n",
              "    <tr style=\"text-align: right;\">\n",
              "      <th></th>\n",
              "      <th>Model</th>\n",
              "    </tr>\n",
              "    <tr>\n",
              "      <th>Score</th>\n",
              "      <th></th>\n",
              "    </tr>\n",
              "  </thead>\n",
              "  <tbody>\n",
              "    <tr>\n",
              "      <th>92.82</th>\n",
              "      <td>Random Forest</td>\n",
              "    </tr>\n",
              "    <tr>\n",
              "      <th>92.82</th>\n",
              "      <td>Decision Tree</td>\n",
              "    </tr>\n",
              "    <tr>\n",
              "      <th>86.53</th>\n",
              "      <td>KNN</td>\n",
              "    </tr>\n",
              "    <tr>\n",
              "      <th>81.37</th>\n",
              "      <td>Logistic Regression</td>\n",
              "    </tr>\n",
              "    <tr>\n",
              "      <th>81.26</th>\n",
              "      <td>Support Vector Machines</td>\n",
              "    </tr>\n",
              "    <tr>\n",
              "      <th>78.11</th>\n",
              "      <td>Naive Bayes</td>\n",
              "    </tr>\n",
              "    <tr>\n",
              "      <th>77.44</th>\n",
              "      <td>Perceptron</td>\n",
              "    </tr>\n",
              "    <tr>\n",
              "      <th>76.32</th>\n",
              "      <td>Stochastic Gradient Decent</td>\n",
              "    </tr>\n",
              "  </tbody>\n",
              "</table>\n",
              "</div>\n",
              "      <button class=\"colab-df-convert\" onclick=\"convertToInteractive('df-c61a1c5c-fdf4-429f-977a-e9ec9815eaac')\"\n",
              "              title=\"Convert this dataframe to an interactive table.\"\n",
              "              style=\"display:none;\">\n",
              "        \n",
              "  <svg xmlns=\"http://www.w3.org/2000/svg\" height=\"24px\"viewBox=\"0 0 24 24\"\n",
              "       width=\"24px\">\n",
              "    <path d=\"M0 0h24v24H0V0z\" fill=\"none\"/>\n",
              "    <path d=\"M18.56 5.44l.94 2.06.94-2.06 2.06-.94-2.06-.94-.94-2.06-.94 2.06-2.06.94zm-11 1L8.5 8.5l.94-2.06 2.06-.94-2.06-.94L8.5 2.5l-.94 2.06-2.06.94zm10 10l.94 2.06.94-2.06 2.06-.94-2.06-.94-.94-2.06-.94 2.06-2.06.94z\"/><path d=\"M17.41 7.96l-1.37-1.37c-.4-.4-.92-.59-1.43-.59-.52 0-1.04.2-1.43.59L10.3 9.45l-7.72 7.72c-.78.78-.78 2.05 0 2.83L4 21.41c.39.39.9.59 1.41.59.51 0 1.02-.2 1.41-.59l7.78-7.78 2.81-2.81c.8-.78.8-2.07 0-2.86zM5.41 20L4 18.59l7.72-7.72 1.47 1.35L5.41 20z\"/>\n",
              "  </svg>\n",
              "      </button>\n",
              "      \n",
              "  <style>\n",
              "    .colab-df-container {\n",
              "      display:flex;\n",
              "      flex-wrap:wrap;\n",
              "      gap: 12px;\n",
              "    }\n",
              "\n",
              "    .colab-df-convert {\n",
              "      background-color: #E8F0FE;\n",
              "      border: none;\n",
              "      border-radius: 50%;\n",
              "      cursor: pointer;\n",
              "      display: none;\n",
              "      fill: #1967D2;\n",
              "      height: 32px;\n",
              "      padding: 0 0 0 0;\n",
              "      width: 32px;\n",
              "    }\n",
              "\n",
              "    .colab-df-convert:hover {\n",
              "      background-color: #E2EBFA;\n",
              "      box-shadow: 0px 1px 2px rgba(60, 64, 67, 0.3), 0px 1px 3px 1px rgba(60, 64, 67, 0.15);\n",
              "      fill: #174EA6;\n",
              "    }\n",
              "\n",
              "    [theme=dark] .colab-df-convert {\n",
              "      background-color: #3B4455;\n",
              "      fill: #D2E3FC;\n",
              "    }\n",
              "\n",
              "    [theme=dark] .colab-df-convert:hover {\n",
              "      background-color: #434B5C;\n",
              "      box-shadow: 0px 1px 3px 1px rgba(0, 0, 0, 0.15);\n",
              "      filter: drop-shadow(0px 1px 2px rgba(0, 0, 0, 0.3));\n",
              "      fill: #FFFFFF;\n",
              "    }\n",
              "  </style>\n",
              "\n",
              "      <script>\n",
              "        const buttonEl =\n",
              "          document.querySelector('#df-c61a1c5c-fdf4-429f-977a-e9ec9815eaac button.colab-df-convert');\n",
              "        buttonEl.style.display =\n",
              "          google.colab.kernel.accessAllowed ? 'block' : 'none';\n",
              "\n",
              "        async function convertToInteractive(key) {\n",
              "          const element = document.querySelector('#df-c61a1c5c-fdf4-429f-977a-e9ec9815eaac');\n",
              "          const dataTable =\n",
              "            await google.colab.kernel.invokeFunction('convertToInteractive',\n",
              "                                                     [key], {});\n",
              "          if (!dataTable) return;\n",
              "\n",
              "          const docLinkHtml = 'Like what you see? Visit the ' +\n",
              "            '<a target=\"_blank\" href=https://colab.research.google.com/notebooks/data_table.ipynb>data table notebook</a>'\n",
              "            + ' to learn more about interactive tables.';\n",
              "          element.innerHTML = '';\n",
              "          dataTable['output_type'] = 'display_data';\n",
              "          await google.colab.output.renderOutput(dataTable, element);\n",
              "          const docLink = document.createElement('div');\n",
              "          docLink.innerHTML = docLinkHtml;\n",
              "          element.appendChild(docLink);\n",
              "        }\n",
              "      </script>\n",
              "    </div>\n",
              "  </div>\n",
              "  "
            ]
          },
          "metadata": {},
          "execution_count": 52
        }
      ]
    },
    {
      "cell_type": "markdown",
      "source": [
        "As we can see, the Random Forest classifier goes on the first place. But first, let us check, how random-forest performs, when we use cross validation."
      ],
      "metadata": {
        "id": "q8biOdzedDKr"
      }
    },
    {
      "cell_type": "code",
      "source": [],
      "metadata": {
        "id": "kRYjOpv7dEan"
      },
      "execution_count": null,
      "outputs": []
    },
    {
      "cell_type": "markdown",
      "source": [
        "# **K-Fold Cross Validation:**"
      ],
      "metadata": {
        "id": "PyMeBYw-ekY4"
      }
    },
    {
      "cell_type": "markdown",
      "source": [
        "K-Fold Cross Validation randomly splits the training data into **K subsets called folds**. Let’s image we would split our data into 4 folds (K = 4). Our random forest model would be trained and evaluated 4 times, using a different fold for evaluation everytime, while it would be trained on the remaining 3 folds.\n",
        "\n",
        "The image below shows the process, using 4 folds (K = 4). Every row represents one training + evaluation process. In the first row, the model get’s trained on the first, second and third subset and evaluated on the fourth. In the second row, the model get’s trained on the second, third and fourth subset and evaluated on the first. K-Fold Cross Validation repeats this process till every fold acted once as an evaluation fold.\n",
        "\n",
        "The result of our K-Fold Cross Validation example would be an array that contains 4 different scores. We then need to compute the mean and the standard deviation for these scores.\n",
        "\n",
        "The code below perform K-Fold Cross Validation on our random forest model, using 10 folds (K = 10). Therefore it outputs an array with 10 different scores."
      ],
      "metadata": {
        "id": "qdC8YVkzemSo"
      }
    },
    {
      "cell_type": "code",
      "source": [
        "from sklearn.model_selection import cross_val_score\n",
        "rf = RandomForestClassifier(n_estimators=100)\n",
        "scores = cross_val_score(rf, X_train, Y_train, cv=10, scoring = \"accuracy\")\n",
        "print(\"Scores:\", scores)\n",
        "print(\"Mean:\", scores.mean())\n",
        "print(\"Standard Deviation:\", scores.std())"
      ],
      "metadata": {
        "colab": {
          "base_uri": "https://localhost:8080/"
        },
        "id": "1-Y23UlCes2Q",
        "outputId": "cc5da0bf-7737-4726-aff0-2be12da4ae9d"
      },
      "execution_count": null,
      "outputs": [
        {
          "output_type": "stream",
          "name": "stdout",
          "text": [
            "Scores: [0.78888889 0.83146067 0.76404494 0.80898876 0.86516854 0.84269663\n",
            " 0.78651685 0.78651685 0.84269663 0.83146067]\n",
            "Mean: 0.8148439450686642\n",
            "Standard Deviation: 0.030870171662821265\n"
          ]
        }
      ]
    },
    {
      "cell_type": "markdown",
      "source": [
        "This looks much more realistic than before. Our model has a average accuracy of 82% with a standard deviation of 3 %. The standard deviation shows us, how precise the estimates are .\n",
        "\n",
        "This means in our case that the accuracy of our model can differ + — 3%.\n",
        "\n",
        "I think the accuracy is still really good and since random forest is an easy to use model, we will try to increase it’s performance even further in the following section."
      ],
      "metadata": {
        "id": "b21KMs3fe3Q9"
      }
    },
    {
      "cell_type": "markdown",
      "source": [
        "# **Random Forest**"
      ],
      "metadata": {
        "id": "inNw8CHfe-U4"
      }
    },
    {
      "cell_type": "markdown",
      "source": [
        "**What is Random Forest ?**\n",
        "\n",
        "Random Forest is a supervised learning algorithm. Like you can already see from it’s name, it creates a forest and makes it somehow random. The „forest“ it builds, is an ensemble of Decision Trees, most of the time trained with the “bagging” method. The general idea of the bagging method is that a combination of learning models increases the overall result.\n",
        "\n",
        "To say it in simple words: Random forest builds multiple decision trees and merges them together to get a more accurate and stable prediction.\n",
        "\n",
        "One big advantage of random forest is, that it can be used for both classification and regression problems, which form the majority of current machine learning systems. With a few exceptions a random-forest classifier has all the hyperparameters of a decision-tree classifier and also all the hyperparameters of a bagging classifier, to control the ensemble itself.\n",
        "\n",
        "The random-forest algorithm brings extra randomness into the model, when it is growing the trees. Instead of searching for the best feature while splitting a node, it searches for the best feature among a random subset of features. This process creates a wide diversity, which generally results in a better model. Therefore when you are growing a tree in random forest, only a random subset of the features is considered for splitting a node. You can even make trees more random, by using random thresholds on top of it, for each feature rather than searching for the best possible thresholds (like a normal decision tree does).\n",
        "\n",
        "Below you can see how a random forest would look like with two trees:"
      ],
      "metadata": {
        "id": "GJegemIhfBic"
      }
    },
    {
      "cell_type": "markdown",
      "source": [
        "![1 GiCvHwZ03tObjkD-6mSqag.webp](data:image/webp;base64,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)"
      ],
      "metadata": {
        "id": "0l97DVFvfE57"
      }
    },
    {
      "cell_type": "markdown",
      "source": [
        "**Feature Importance**\n",
        "\n",
        "Another great quality of random forest is that they make it very easy to measure the relative importance of each feature. Sklearn measure a features importance by looking at how much the treee nodes, that use that feature, reduce impurity on average (across all trees in the forest). It computes this score automaticall for each feature after training and scales the results so that the sum of all importances is equal to 1. We will acces this below:"
      ],
      "metadata": {
        "id": "SNRvWghifLyJ"
      }
    },
    {
      "cell_type": "code",
      "source": [
        "importances = pd.DataFrame({'feature':X_train.columns,'importance':np.round(random_forest.feature_importances_,3)})\n",
        "importances = importances.sort_values('importance',ascending=False).set_index('feature')\n",
        "importances.head(15)"
      ],
      "metadata": {
        "colab": {
          "base_uri": "https://localhost:8080/",
          "height": 488
        },
        "id": "a8KsfDSLfO6Q",
        "outputId": "85e4a790-f82c-4f28-9baa-63869eaf40ff"
      },
      "execution_count": null,
      "outputs": [
        {
          "output_type": "execute_result",
          "data": {
            "text/plain": [
              "                 importance\n",
              "feature                    \n",
              "Title                 0.199\n",
              "Sex                   0.182\n",
              "Age_Class             0.096\n",
              "Deck                  0.079\n",
              "Age                   0.078\n",
              "Pclass                0.075\n",
              "Fare                  0.067\n",
              "relatives             0.060\n",
              "Embarked              0.051\n",
              "SibSp                 0.041\n",
              "Fare_Per_Person       0.039\n",
              "Parch                 0.021\n",
              "not_alone             0.012"
            ],
            "text/html": [
              "\n",
              "  <div id=\"df-231ab9a5-94d0-4724-93dd-96ff4417656f\">\n",
              "    <div class=\"colab-df-container\">\n",
              "      <div>\n",
              "<style scoped>\n",
              "    .dataframe tbody tr th:only-of-type {\n",
              "        vertical-align: middle;\n",
              "    }\n",
              "\n",
              "    .dataframe tbody tr th {\n",
              "        vertical-align: top;\n",
              "    }\n",
              "\n",
              "    .dataframe thead th {\n",
              "        text-align: right;\n",
              "    }\n",
              "</style>\n",
              "<table border=\"1\" class=\"dataframe\">\n",
              "  <thead>\n",
              "    <tr style=\"text-align: right;\">\n",
              "      <th></th>\n",
              "      <th>importance</th>\n",
              "    </tr>\n",
              "    <tr>\n",
              "      <th>feature</th>\n",
              "      <th></th>\n",
              "    </tr>\n",
              "  </thead>\n",
              "  <tbody>\n",
              "    <tr>\n",
              "      <th>Title</th>\n",
              "      <td>0.199</td>\n",
              "    </tr>\n",
              "    <tr>\n",
              "      <th>Sex</th>\n",
              "      <td>0.182</td>\n",
              "    </tr>\n",
              "    <tr>\n",
              "      <th>Age_Class</th>\n",
              "      <td>0.096</td>\n",
              "    </tr>\n",
              "    <tr>\n",
              "      <th>Deck</th>\n",
              "      <td>0.079</td>\n",
              "    </tr>\n",
              "    <tr>\n",
              "      <th>Age</th>\n",
              "      <td>0.078</td>\n",
              "    </tr>\n",
              "    <tr>\n",
              "      <th>Pclass</th>\n",
              "      <td>0.075</td>\n",
              "    </tr>\n",
              "    <tr>\n",
              "      <th>Fare</th>\n",
              "      <td>0.067</td>\n",
              "    </tr>\n",
              "    <tr>\n",
              "      <th>relatives</th>\n",
              "      <td>0.060</td>\n",
              "    </tr>\n",
              "    <tr>\n",
              "      <th>Embarked</th>\n",
              "      <td>0.051</td>\n",
              "    </tr>\n",
              "    <tr>\n",
              "      <th>SibSp</th>\n",
              "      <td>0.041</td>\n",
              "    </tr>\n",
              "    <tr>\n",
              "      <th>Fare_Per_Person</th>\n",
              "      <td>0.039</td>\n",
              "    </tr>\n",
              "    <tr>\n",
              "      <th>Parch</th>\n",
              "      <td>0.021</td>\n",
              "    </tr>\n",
              "    <tr>\n",
              "      <th>not_alone</th>\n",
              "      <td>0.012</td>\n",
              "    </tr>\n",
              "  </tbody>\n",
              "</table>\n",
              "</div>\n",
              "      <button class=\"colab-df-convert\" onclick=\"convertToInteractive('df-231ab9a5-94d0-4724-93dd-96ff4417656f')\"\n",
              "              title=\"Convert this dataframe to an interactive table.\"\n",
              "              style=\"display:none;\">\n",
              "        \n",
              "  <svg xmlns=\"http://www.w3.org/2000/svg\" height=\"24px\"viewBox=\"0 0 24 24\"\n",
              "       width=\"24px\">\n",
              "    <path d=\"M0 0h24v24H0V0z\" fill=\"none\"/>\n",
              "    <path d=\"M18.56 5.44l.94 2.06.94-2.06 2.06-.94-2.06-.94-.94-2.06-.94 2.06-2.06.94zm-11 1L8.5 8.5l.94-2.06 2.06-.94-2.06-.94L8.5 2.5l-.94 2.06-2.06.94zm10 10l.94 2.06.94-2.06 2.06-.94-2.06-.94-.94-2.06-.94 2.06-2.06.94z\"/><path d=\"M17.41 7.96l-1.37-1.37c-.4-.4-.92-.59-1.43-.59-.52 0-1.04.2-1.43.59L10.3 9.45l-7.72 7.72c-.78.78-.78 2.05 0 2.83L4 21.41c.39.39.9.59 1.41.59.51 0 1.02-.2 1.41-.59l7.78-7.78 2.81-2.81c.8-.78.8-2.07 0-2.86zM5.41 20L4 18.59l7.72-7.72 1.47 1.35L5.41 20z\"/>\n",
              "  </svg>\n",
              "      </button>\n",
              "      \n",
              "  <style>\n",
              "    .colab-df-container {\n",
              "      display:flex;\n",
              "      flex-wrap:wrap;\n",
              "      gap: 12px;\n",
              "    }\n",
              "\n",
              "    .colab-df-convert {\n",
              "      background-color: #E8F0FE;\n",
              "      border: none;\n",
              "      border-radius: 50%;\n",
              "      cursor: pointer;\n",
              "      display: none;\n",
              "      fill: #1967D2;\n",
              "      height: 32px;\n",
              "      padding: 0 0 0 0;\n",
              "      width: 32px;\n",
              "    }\n",
              "\n",
              "    .colab-df-convert:hover {\n",
              "      background-color: #E2EBFA;\n",
              "      box-shadow: 0px 1px 2px rgba(60, 64, 67, 0.3), 0px 1px 3px 1px rgba(60, 64, 67, 0.15);\n",
              "      fill: #174EA6;\n",
              "    }\n",
              "\n",
              "    [theme=dark] .colab-df-convert {\n",
              "      background-color: #3B4455;\n",
              "      fill: #D2E3FC;\n",
              "    }\n",
              "\n",
              "    [theme=dark] .colab-df-convert:hover {\n",
              "      background-color: #434B5C;\n",
              "      box-shadow: 0px 1px 3px 1px rgba(0, 0, 0, 0.15);\n",
              "      filter: drop-shadow(0px 1px 2px rgba(0, 0, 0, 0.3));\n",
              "      fill: #FFFFFF;\n",
              "    }\n",
              "  </style>\n",
              "\n",
              "      <script>\n",
              "        const buttonEl =\n",
              "          document.querySelector('#df-231ab9a5-94d0-4724-93dd-96ff4417656f button.colab-df-convert');\n",
              "        buttonEl.style.display =\n",
              "          google.colab.kernel.accessAllowed ? 'block' : 'none';\n",
              "\n",
              "        async function convertToInteractive(key) {\n",
              "          const element = document.querySelector('#df-231ab9a5-94d0-4724-93dd-96ff4417656f');\n",
              "          const dataTable =\n",
              "            await google.colab.kernel.invokeFunction('convertToInteractive',\n",
              "                                                     [key], {});\n",
              "          if (!dataTable) return;\n",
              "\n",
              "          const docLinkHtml = 'Like what you see? Visit the ' +\n",
              "            '<a target=\"_blank\" href=https://colab.research.google.com/notebooks/data_table.ipynb>data table notebook</a>'\n",
              "            + ' to learn more about interactive tables.';\n",
              "          element.innerHTML = '';\n",
              "          dataTable['output_type'] = 'display_data';\n",
              "          await google.colab.output.renderOutput(dataTable, element);\n",
              "          const docLink = document.createElement('div');\n",
              "          docLink.innerHTML = docLinkHtml;\n",
              "          element.appendChild(docLink);\n",
              "        }\n",
              "      </script>\n",
              "    </div>\n",
              "  </div>\n",
              "  "
            ]
          },
          "metadata": {},
          "execution_count": 55
        }
      ]
    },
    {
      "cell_type": "code",
      "source": [
        "importances.plot.bar()"
      ],
      "metadata": {
        "colab": {
          "base_uri": "https://localhost:8080/",
          "height": 564
        },
        "id": "NeQqv2pjfWMt",
        "outputId": "6e3a3919-d9a5-435b-ec73-fbbd74d783a2"
      },
      "execution_count": null,
      "outputs": [
        {
          "output_type": "execute_result",
          "data": {
            "text/plain": [
              "<Axes: xlabel='feature'>"
            ]
          },
          "metadata": {},
          "execution_count": 56
        },
        {
          "output_type": "display_data",
          "data": {
            "text/plain": [
              "<Figure size 640x480 with 1 Axes>"
            ],
            "image/png": "[encoded data removed]"
          },
          "metadata": {}
        }
      ]
    },
    {
      "cell_type": "markdown",
      "source": [
        "**Conclusion:**\n",
        "\n",
        "not_alone and Parch doesn’t play a significant role in our random forest classifiers prediction process. Because of that I will drop them from the dataset and train the classifier again. We could also remove more or less features, but this would need a more detailed investigation of the features effect on our model. But I think it’s just fine to remove only Alone and Parch."
      ],
      "metadata": {
        "id": "G73enZYqfa02"
      }
    },
    {
      "cell_type": "code",
      "source": [
        "train_df  = train_df.drop(\"not_alone\", axis=1)\n",
        "test_df  = test_df.drop(\"not_alone\", axis=1)\n",
        "\n",
        "train_df  = train_df.drop(\"Parch\", axis=1)\n",
        "test_df  = test_df.drop(\"Parch\", axis=1)"
      ],
      "metadata": {
        "id": "w_zNRCL-fcWy"
      },
      "execution_count": null,
      "outputs": []
    },
    {
      "cell_type": "markdown",
      "source": [
        "**Training random forest again:**"
      ],
      "metadata": {
        "id": "TbBjaG1vfhyG"
      }
    },
    {
      "cell_type": "code",
      "source": [
        "# Random Forest\n",
        "\n",
        "random_forest = RandomForestClassifier(n_estimators=100, oob_score = True)\n",
        "random_forest.fit(X_train, Y_train)\n",
        "Y_prediction = random_forest.predict(X_test)\n",
        "\n",
        "random_forest.score(X_train, Y_train)\n",
        "\n",
        "acc_random_forest = round(random_forest.score(X_train, Y_train) * 100, 2)\n",
        "print(round(acc_random_forest,2,), \"%\")"
      ],
      "metadata": {
        "colab": {
          "base_uri": "https://localhost:8080/"
        },
        "id": "yZdLViYOfiiy",
        "outputId": "59e995d0-c2bd-45ee-a176-5a17babc5b46"
      },
      "execution_count": null,
      "outputs": [
        {
          "output_type": "stream",
          "name": "stdout",
          "text": [
            "92.82 %\n"
          ]
        }
      ]
    },
    {
      "cell_type": "markdown",
      "source": [
        "Our random forest model predicts as good as it did before. A general rule is that, the more features you have, the more likely your model will suffer from overfitting and vice versa. But I think our data looks fine for now and hasn't too much features.\n",
        "\n",
        "There is also another way to evaluate a random-forest classifier, which is probably much more accurate than the score we used before. What I am talking about is the out-of-bag samples to estimate the generalization accuracy. I will not go into details here about how it works. Just note that out-of-bag estimate is as accurate as using a test set of the same size as the training set. Therefore, using the out-of-bag error estimate removes the need for a set aside test set."
      ],
      "metadata": {
        "id": "lhVEfUlyflce"
      }
    },
    {
      "cell_type": "code",
      "source": [
        "print(\"oob score:\", round(random_forest.oob_score_, 4)*100, \"%\")"
      ],
      "metadata": {
        "colab": {
          "base_uri": "https://localhost:8080/"
        },
        "id": "zZLr20O4fmJ0",
        "outputId": "e484d7b4-582d-417f-d867-aaf4eabf3756"
      },
      "execution_count": null,
      "outputs": [
        {
          "output_type": "stream",
          "name": "stdout",
          "text": [
            "oob score: 81.47999999999999 %\n"
          ]
        }
      ]
    },
    {
      "cell_type": "markdown",
      "source": [
        "Now we can start tuning the hyperameters of random forest."
      ],
      "metadata": {
        "id": "tLIba4xHfqHy"
      }
    },
    {
      "cell_type": "markdown",
      "source": [
        "# **Further Evaluation**"
      ],
      "metadata": {
        "id": "Of6czIBUgCdI"
      }
    },
    {
      "cell_type": "markdown",
      "source": [
        "**Confusion Matrix:**"
      ],
      "metadata": {
        "id": "9D01Gq1GgEM_"
      }
    },
    {
      "cell_type": "code",
      "source": [
        "from sklearn.model_selection import cross_val_predict\n",
        "from sklearn.metrics import confusion_matrix\n",
        "predictions = cross_val_predict(random_forest, X_train, Y_train, cv=3)\n",
        "confusion_matrix(Y_train, predictions)"
      ],
      "metadata": {
        "colab": {
          "base_uri": "https://localhost:8080/"
        },
        "id": "5RNkEDH7gFtU",
        "outputId": "e6f7cca9-f5c0-42d6-e176-383bfbaae5ec"
      },
      "execution_count": null,
      "outputs": [
        {
          "output_type": "execute_result",
          "data": {
            "text/plain": [
              "array([[483,  66],\n",
              "       [ 96, 246]])"
            ]
          },
          "metadata": {},
          "execution_count": 62
        }
      ]
    },
    {
      "cell_type": "markdown",
      "source": [
        "The first row is about the not-survived-predictions: 493 passengers were correctly classified as not survived (called true negatives) and 56 where wrongly classified as not survived (false positives).\n",
        "\n",
        "The second row is about the survived-predictions: 93 passengers where wrongly classified as survived (false negatives) and 249 where correctly classified as survived (true positives).\n",
        "\n",
        "A confusion matrix gives you a lot of information about how well your model does, but theres a way to get even more, like computing the classifiers precision."
      ],
      "metadata": {
        "id": "tsjUCnwegJEe"
      }
    },
    {
      "cell_type": "markdown",
      "source": [
        "**Precision and Recall:**"
      ],
      "metadata": {
        "id": "EiymOsmbgNVq"
      }
    },
    {
      "cell_type": "code",
      "source": [
        "from sklearn.metrics import precision_score, recall_score\n",
        "\n",
        "print(\"Precision:\", precision_score(Y_train, predictions))\n",
        "print(\"Recall:\",recall_score(Y_train, predictions))"
      ],
      "metadata": {
        "colab": {
          "base_uri": "https://localhost:8080/"
        },
        "id": "wAlVJERwgOcK",
        "outputId": "92938549-ca99-43ea-f428-8b8c02f2f7f3"
      },
      "execution_count": null,
      "outputs": [
        {
          "output_type": "stream",
          "name": "stdout",
          "text": [
            "Precision: 0.7884615384615384\n",
            "Recall: 0.7192982456140351\n"
          ]
        }
      ]
    },
    {
      "cell_type": "markdown",
      "source": [
        "Our model predicts 81% of the time, a passengers survival correctly (precision). The recall tells us that it predicted the survival of 73 % of the people who actually survived."
      ],
      "metadata": {
        "id": "sJh06Jj9u6mM"
      }
    },
    {
      "cell_type": "markdown",
      "source": [
        "**F-Score**\n",
        "\n",
        "You can combine precision and recall into one score, which is called the F-score. The F-score is computed with the harmonic mean of precision and recall. Note that it assigns much more weight to low values. As a result of that, the classifier will only get a high F-score, if both recall and precision are high."
      ],
      "metadata": {
        "id": "0RxlnaoAu96t"
      }
    },
    {
      "cell_type": "code",
      "source": [
        "from sklearn.metrics import f1_score\n",
        "f1_score(Y_train, predictions)"
      ],
      "metadata": {
        "colab": {
          "base_uri": "https://localhost:8080/"
        },
        "id": "Q7cLk4HigJon",
        "outputId": "8b6690cb-536c-480a-faf4-312f12d7491f"
      },
      "execution_count": null,
      "outputs": [
        {
          "output_type": "execute_result",
          "data": {
            "text/plain": [
              "0.7522935779816514"
            ]
          },
          "metadata": {},
          "execution_count": 64
        }
      ]
    },
    {
      "cell_type": "markdown",
      "source": [
        "0.7599999999999\n",
        "\n",
        "There we have it, a 77 % F-score. The score is not that high, because we have a recall of 73%. But unfortunately the F-score is not perfect, because it favors classifiers that have a similar precision and recall. This is a problem, because you sometimes want a high precision and sometimes a high recall. The thing is that an increasing precision, sometimes results in an decreasing recall and vice versa (depending on the threshold). This is called the precision/recall tradeoff. We will discuss this in the following section."
      ],
      "metadata": {
        "id": "Ot0ukuojvLBU"
      }
    },
    {
      "cell_type": "markdown",
      "source": [
        "**Precision Recall Curve**\n",
        "\n",
        "For each person the Random Forest algorithm has to classify, it computes a probability based on a function and it classifies the person as survived (when the score is bigger the than threshold) or as not survived (when the score is smaller than the threshold). That’s why the threshold plays an important part.\n",
        "\n",
        "We will plot the precision and recall with the threshold using matplotlib:"
      ],
      "metadata": {
        "id": "fNG01EX7vNZ9"
      }
    },
    {
      "cell_type": "code",
      "source": [
        "from sklearn.metrics import precision_recall_curve\n",
        "\n",
        "# getting the probabilities of our predictions\n",
        "y_scores = random_forest.predict_proba(X_train)\n",
        "y_scores = y_scores[:,1]\n",
        "\n",
        "precision, recall, threshold = precision_recall_curve(Y_train, y_scores)\n",
        "def plot_precision_and_recall(precision, recall, threshold):\n",
        "    plt.plot(threshold, precision[:-1], \"r-\", label=\"precision\", linewidth=5)\n",
        "    plt.plot(threshold, recall[:-1], \"b\", label=\"recall\", linewidth=5)\n",
        "    plt.xlabel(\"threshold\", fontsize=19)\n",
        "    plt.legend(loc=\"upper right\", fontsize=19)\n",
        "    plt.ylim([0, 1])\n",
        "\n",
        "plt.figure(figsize=(10, 5))\n",
        "plot_precision_and_recall(precision, recall, threshold)\n",
        "plt.show()"
      ],
      "metadata": {
        "colab": {
          "base_uri": "https://localhost:8080/",
          "height": 482
        },
        "id": "pr7w7BFygSyD",
        "outputId": "ee66fe35-2744-4050-c0af-da0783c480e3"
      },
      "execution_count": null,
      "outputs": [
        {
          "output_type": "display_data",
          "data": {
            "text/plain": [
              "<Figure size 1000x500 with 1 Axes>"
            ],
            "image/png": "[encoded data removed]"
          },
          "metadata": {}
        }
      ]
    },
    {
      "cell_type": "markdown",
      "source": [
        "Above you can clearly see that the recall is falling of rapidly at a precision of around 85%. Because of that you may want to select the precision/recall tradeoff before that — maybe at around 75 %.\n",
        "\n",
        "You are now able to choose a threshold, that gives you the best precision/recall tradeoff for your current machine learning problem. If you want for example a precision of 80%, you can easily look at the plots and see that you would need a threshold of around 0.4. Then you could train a model with exactly that threshold and would get the desired accuracy.\n",
        "\n",
        "Another way is to plot the precision and recall against each other:"
      ],
      "metadata": {
        "id": "rAT4lHfMvSlU"
      }
    },
    {
      "cell_type": "code",
      "source": [
        "def plot_precision_vs_recall(precision, recall):\n",
        "    plt.plot(recall, precision, \"g--\", linewidth=2.5)\n",
        "    plt.ylabel(\"recall\", fontsize=19)\n",
        "    plt.xlabel(\"precision\", fontsize=19)\n",
        "    plt.axis([0, 1.5, 0, 1.5])\n",
        "\n",
        "plt.figure(figsize=(10, 5))\n",
        "plot_precision_vs_recall(precision, recall)\n",
        "plt.show()"
      ],
      "metadata": {
        "colab": {
          "base_uri": "https://localhost:8080/",
          "height": 477
        },
        "id": "rBGkBfV_gTPy",
        "outputId": "0cae6b74-15e3-48b1-cc94-900a5fcf47e8"
      },
      "execution_count": null,
      "outputs": [
        {
          "output_type": "display_data",
          "data": {
            "text/plain": [
              "<Figure size 1000x500 with 1 Axes>"
            ],
            "image/png": "[encoded data removed]"
          },
          "metadata": {}
        }
      ]
    },
    {
      "cell_type": "markdown",
      "source": [
        "**ROC AUC Curve**\n",
        "\n",
        "Another way to evaluate and compare your binary classifier is provided by the ROC AUC Curve. This curve plots the true positive rate (also called recall) against the false positive rate (ratio of incorrectly classified negative instances), instead of plotting the precision versus the recall."
      ],
      "metadata": {
        "id": "6tjUGNzyvYRP"
      }
    },
    {
      "cell_type": "code",
      "source": [
        "from sklearn.metrics import roc_curve\n",
        "# compute true positive rate and false positive rate\n",
        "false_positive_rate, true_positive_rate, thresholds = roc_curve(Y_train, y_scores)# plotting them against each other\n",
        "def plot_roc_curve(false_positive_rate, true_positive_rate, label=None):\n",
        "    plt.plot(false_positive_rate, true_positive_rate, linewidth=2, label=label)\n",
        "    plt.plot([0, 1], [0, 1], 'r', linewidth=4)\n",
        "    plt.axis([0, 1, 0, 1])\n",
        "    plt.xlabel('False Positive Rate (FPR)', fontsize=16)\n",
        "    plt.ylabel('True Positive Rate (TPR)', fontsize=16)\n",
        "\n",
        "plt.figure(figsize=(10, 5))\n",
        "plot_roc_curve(false_positive_rate, true_positive_rate)\n",
        "plt.show()"
      ],
      "metadata": {
        "colab": {
          "base_uri": "https://localhost:8080/",
          "height": 476
        },
        "id": "lZvSI8HmgVSf",
        "outputId": "d072c764-cbbd-471b-c3d8-e783116f3a1d"
      },
      "execution_count": null,
      "outputs": [
        {
          "output_type": "display_data",
          "data": {
            "text/plain": [
              "<Figure size 1000x500 with 1 Axes>"
            ],
            "image/png": "[encoded data removed]"
          },
          "metadata": {}
        }
      ]
    },
    {
      "cell_type": "markdown",
      "source": [
        "The red line in the middel represents a purely random classifier (e.g a coin flip) and therefore your classifier should be as far away from it as possible. Our Random Forest model seems to do a good job.\n",
        "\n",
        "Of course we also have a tradeoff here, because the classifier produces more false positives, the higher the true positive rate is."
      ],
      "metadata": {
        "id": "tAmouX_svbIN"
      }
    },
    {
      "cell_type": "markdown",
      "source": [
        "**ROC AUC Score**\n",
        "\n",
        "The ROC AUC Score is the corresponding score to the ROC AUC Curve. It is simply computed by measuring the area under the curve, which is called AUC.\n",
        "\n",
        "A classifiers that is 100% correct, would have a ROC AUC Score of 1 and a completely random classiffier would have a score of 0.5."
      ],
      "metadata": {
        "id": "Pm_ep-66vd07"
      }
    },
    {
      "cell_type": "code",
      "source": [
        "from sklearn.metrics import roc_auc_score\n",
        "r_a_score = roc_auc_score(Y_train, y_scores)\n",
        "print(\"ROC-AUC-Score:\", r_a_score)"
      ],
      "metadata": {
        "colab": {
          "base_uri": "https://localhost:8080/"
        },
        "id": "DbnAy_UAgWrB",
        "outputId": "bad743e4-99a7-44df-b5be-3059ead7a606"
      },
      "execution_count": null,
      "outputs": [
        {
          "output_type": "stream",
          "name": "stdout",
          "text": [
            "ROC-AUC-Score: 0.9709919151247883\n"
          ]
        }
      ]
    }
  ]
}